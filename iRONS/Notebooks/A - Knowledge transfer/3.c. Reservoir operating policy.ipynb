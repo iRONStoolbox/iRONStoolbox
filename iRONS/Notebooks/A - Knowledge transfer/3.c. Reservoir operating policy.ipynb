{
 "cells": [
  {
   "cell_type": "markdown",
   "metadata": {
    "slideshow": {
     "slide_type": "-"
    }
   },
   "source": [
    "*This is a Jupyter Notebook. It is an interactive document that contains both rich text elements such as figures, links, equations, etc. and executable code (in this case Python code) contained in cells.\n",
    "**Instructions:** You can execute the blocks of code one at the time by placing the mouse in the grey box and pressing shift + enter. An asterisk will appear in the brackets at the top left of the box while the code is being exectued (this may take few seconds) and turns into a number when the execution is over. Alternatively, you can run the whole notebook in a single step by clicking on the menu Cell -> Run All.*\n",
    "\n",
    "# Optimisation of the reservoir operating policy\n",
    "In this Notebook we will see why and how to optimise the operating policy of a water reservoir system. An **operating policy** is a function that returns the operational decision to be made at any given time (such as the release volume for the next 24 hours) based on the conditions of the reservoir system (for instance, the reservoir storage, the demand forecast, the time of year, etc.) at that time. Differently from the release/pumping schedulings discussed in the previous Notebooks, which are optimised every time an operational decision must be made, the operating policy is optimised once and then applied forever after (or at least, until a revision of the policy is needed). In other words, the optimisation of the operating policy does not return a set of optimal operational decisions but rather a strategy for making optimal decisions ([Dobson et al, 2019](https://doi.org/10.1016/j.advwatres.2019.04.012)). It follows that, while the optimisation of release/pumping schedulings aims at maximising the benefits against the short- or mid-term forecasts of inflow and demand, the optimisation of the operating policy maximises the long-term benefits. These can be estimated by using (sufficiently long) historical time series or model projections.\n",
    "\n",
    "<left><img src=\"../../util/images/Dam3.gif\" width = \"500px\"><left>"
   ]
  },
  {
   "cell_type": "markdown",
   "metadata": {},
   "source": [
    "Once again we consider a simple illustrative system where a reservoir is operated to supply water to a domestic consumption node, while ensuring a minimum environmental flow in the downstream river (also called “environmental compensation flow”) and maintaining the water level in the reservoir within prescribed limits. We use a mathematical model to link all the key variables that represent the reservoir dynamics (inflow, storage and outflows) and use model simulation/optimisation to determine the reservoir operating policy that optimizes the **long-term** (several years) system performance. We use the historical time series of inflows and water demand to estimate such long-term performance. The underpinning assumption here is that the system forcings observed over the past years are representative of the forcings that will drive the system in the future (if this assumption is not sensible, for instance because of ongoing changes that will likely impact the hydrological regime or demand pattern, then one may use model projections of inflow and demand in place of historical observations) \n",
    "<left> <img src=\"../../util/images/system_representation_IO1.png\" width = \"600px\"><left>\n",
    "\n",
    "We will use a simple form of operating policy where the reservoir release is only determined by the storage value, as in the Figure below. Higher storage values are associated to higher releases, which is useful for flood control purposes, whereas at low storage values less water is released to reduce the risk of future water shortages [(Loucks et al., 1981)](https://link.springer.com/book/10.1007/978-3-319-44234-1).\n",
    "<left><img src=\"../../util/images/Policy_function.png\" width = \"400px\"><left>"
   ]
  },
  {
   "cell_type": "markdown",
   "metadata": {},
   "source": [
    "## Import libraries\n",
    "To run this notebook we need to import some libraries: (🚨 in order to run the code like in the box below, place the mouse pointer in the cell, then click on “▶ Run” button above or press shift + enter)"
   ]
  },
  {
   "cell_type": "code",
   "execution_count": 1,
   "metadata": {},
   "outputs": [],
   "source": [
    "from bqplot import pyplot as plt\n",
    "from bqplot import *\n",
    "from bqplot.traits import *\n",
    "import numpy as np\n",
    "import ipywidgets as widgets\n",
    "from IPython.display import display\n",
    "from platypus import NSGAII, Problem, Real, Integer # Import the optimizer"
   ]
  },
  {
   "cell_type": "markdown",
   "metadata": {},
   "source": [
    "## Defining the shape of the operating policy\n",
    "As anticipated, in this notebook we will use an operating policy that determines the reservoir release based on the storage value only. In particular, we will use a piece-wise linear function of the storage. The function is implemented in a series of submodules, that we can import with the following code:"
   ]
  },
  {
   "cell_type": "code",
   "execution_count": 2,
   "metadata": {},
   "outputs": [],
   "source": [
    "from Modules.Interactive_release_policy import Interactive_piecewiselin_manual, Interactive_piecewiselin_auto\n",
    "from irons.Software.read_data import read_csv_data\n",
    "from irons.Software.day2week2month import day2week\n",
    "from irons.Software.operating_policy import op_piecewiselin_1res"
   ]
  },
  {
   "cell_type": "markdown",
   "metadata": {},
   "source": [
    "In our code, the operating policy uses release and rescaled storage values. Specifically, the storage is scaled by the reservoir active capacity, so that in the operating policy function it varies between 0 (dead storage) and 1 (full storage).\n",
    "The piece-wise linear function representing the operating policy is delineated by 4 points (x0, x1, x2 and x3): the minimimum and maximum (storage,release) points (x0 and x3 respectively), and two inflection points (x1, x2) where the slope of the function changes. The function returns a constant release (for instance, the target demand) when the storages stay between points x1 and x2; the release is reduced if the storage is below x1, or increased if it goes above x2. Let's now attribute a (tentative) value to the coordinates of these points, so that we can visualise the operating policy. For example:"
   ]
  },
  {
   "cell_type": "code",
   "execution_count": 3,
   "metadata": {},
   "outputs": [],
   "source": [
    "# System characteristics\n",
    "d       = 15 # ML/week - water demand (we assume as constant) \n",
    "env_min = 4 # ML/week - environmental compensation flow\n",
    "Qreg_rel_mean = d # ML/week - the (long-term) mean release = demand  \n",
    "\n",
    "# System constraints\n",
    "Qreg_rel_min = env_min # ML/week - the release at minimum storage \n",
    "Qreg_rel_max = 40 # ML/week - the maximum release capacity \n",
    "\n",
    "s_min = 0 # ML - minimum storage (set to zero for now)\n",
    "s_max = 150 #  ML - maximum storage (=reservoir capacity)\n",
    "\n",
    "### Operating policy defining points ###\n",
    "s_0 = s_min/s_max\n",
    "s_1 = 0.2 # storage fraction at which 1st change in slope occurs \n",
    "s_2 = 0.8 # storage fraction at which 2nd change in slope occurs\n",
    "s_3 = s_max/s_max\n",
    "\n",
    "Qreg_rel_ref = Qreg_rel_mean # ML/week - the target demand \n",
    "u_0 = Qreg_rel_min\n",
    "u_1 = Qreg_rel_ref\n",
    "u_2 = Qreg_rel_ref\n",
    "u_3 = Qreg_rel_max\n",
    "\n",
    "x0 = [s_0, u_0]\n",
    "x1 = [s_1, u_1]\n",
    "x2 = [s_2, u_2]\n",
    "x3 = [s_3, u_3]\n",
    "\n",
    "param = [x0, x1, x2, x3]\n",
    "# Release policy #\n",
    "policy_rel = op_piecewiselin_1res(param)\n",
    "### Storage fraction ###\n",
    "s_frac = np.arange(0,1.01,0.01)"
   ]
  },
  {
   "cell_type": "markdown",
   "metadata": {},
   "source": [
    "We can now create and plot the operating policy with the following code:"
   ]
  },
  {
   "cell_type": "code",
   "execution_count": 4,
   "metadata": {},
   "outputs": [
    {
     "data": {
      "application/vnd.jupyter.widget-view+json": {
       "model_id": "a5c5ddf6f39a472c8c15b4c1063503ec",
       "version_major": 2,
       "version_minor": 0
      },
      "text/plain": [
       "VBox(children=(Figure(axes=[Axis(label='Storage fraction', scale=LinearScale(max=1.03, min=0.0)), Axis(label='…"
      ]
     },
     "metadata": {},
     "output_type": "display_data"
    }
   ],
   "source": [
    "### Axis characteristics ###\n",
    "x_sc_0 = LinearScale(min=0,max=1.03);y_sc_0 = LinearScale(min=0,max=u_3)\n",
    "x_ax_0 = Axis(label='Storage fraction', scale=x_sc_0)\n",
    "y_ax_0 = Axis(label='Release (ML/week)', scale=y_sc_0, orientation='vertical')\n",
    "### Plot ###\n",
    "policy_function_points = Scatter(x = [x0[0], x1[0], x2[0], x3[0]], \n",
    "                                 y = [x0[1], x1[1], x2[1], x3[1]],\n",
    "                                 colors=['red'],stroke = 'lightgray',\n",
    "                                 scales={'x': x_sc_0, 'y': y_sc_0},\n",
    "                                 names = ['x0','x1','x2','x3'])\n",
    "policy_function_0 = Lines(x = s_frac, y = policy_rel,\n",
    "                          colors=['blue'],stroke = 'lightgray',\n",
    "                          scales={'x': x_sc_0, 'y': y_sc_0})\n",
    "### Figure characteristics ###\n",
    "fig_0 = plt.Figure(marks = [policy_function_0,policy_function_points],title = 'Operating policy', axes=[x_ax_0, y_ax_0],\n",
    "                   layout={'width': '450px', 'height': '400px'}, legend_style = {'fill': 'white', 'opacity': 0.5},\n",
    "                           fig_margin={'top':0, 'bottom':40, 'left':60, 'right':0})\n",
    "widgets.VBox([fig_0])"
   ]
  },
  {
   "cell_type": "markdown",
   "metadata": {},
   "source": [
    "## Optimising the operating policy by trial and error (manual optimisation)\n",
    "In this section we will refine the parameters of the operating policy (that is, in our example, the coordinates of points x0,x1,x2,x3) by trying to increase the system performance when simulated against the historical inflows, evaporation and water demand data.\n",
    "### Loading historical inflows and evaporation data\n",
    "Let's assume we want to look at 100 weeks from 2014 to 2015, and load the inflow and evaporation observations for this period from a file."
   ]
  },
  {
   "cell_type": "code",
   "execution_count": 5,
   "metadata": {},
   "outputs": [],
   "source": [
    "### Load evaporation data ###\n",
    "inputs_folder_path                  = 'Inputs/'\n",
    "clim_data_file                      = 'clim_data_2014_15.csv'\n",
    "date_day, clim_data_day            = read_csv_data(inputs_folder_path, clim_data_file)\n",
    "date, e_data_week, e_data_week_cum = day2week(date_day,clim_data_day[:,0:1],date_end=pd.Timestamp('2015-12-02 00:00:00'))\n",
    "### Load inflow data ###\n",
    "I_data_file                         = 'inflow_data_2014_15.csv'\n",
    "date_day, I_data_day               = read_csv_data(inputs_folder_path, I_data_file)\n",
    "date, I_data_week, I_data_week_cum = day2week(date_day,I_data_day[:,0:1],date_end=pd.Timestamp('2015-12-02 00:00:00'))"
   ]
  },
  {
   "cell_type": "markdown",
   "metadata": {},
   "source": [
    "Plot the evaporation and inflow time series:"
   ]
  },
  {
   "cell_type": "code",
   "execution_count": 6,
   "metadata": {},
   "outputs": [
    {
     "data": {
      "application/vnd.jupyter.widget-view+json": {
       "model_id": "747ab576fbee4c77bbe96b93b4deafe1",
       "version_major": 2,
       "version_minor": 0
      },
      "text/plain": [
       "VBox(children=(Figure(axes=[Axis(scale=DateScale()), Axis(label='ML/week', orientation='vertical', scale=Linea…"
      ]
     },
     "metadata": {},
     "output_type": "display_data"
    }
   ],
   "source": [
    "# Axis characteristics\n",
    "x_sc_1 = DateScale();y_sc_1 = LinearScale(min=0,max=40)\n",
    "x_ax_1 = Axis(scale=x_sc_1);y_ax_1 = Axis(label='ML/week', scale=y_sc_1, orientation='vertical')\n",
    "# Bar plot\n",
    "evap_plot = plt.bar(date,e_data_week[:,0],colors=['green'],stroke = 'lightgray',scales={'x': x_sc_1, 'y': y_sc_1},\n",
    "                      labels = ['evaporation'], display_legend = True)\n",
    "inflow_plot = plt.bar(date,I_data_week[:,0],colors=['blue'],stroke = 'lightgray',scales={'x': x_sc_1, 'y': y_sc_1},\n",
    "                      labels = ['inflow'], display_legend = True)\n",
    "# Figure characteristics\n",
    "fig_1 = plt.Figure(marks = [inflow_plot,evap_plot],title = 'Inflow', axes=[x_ax_1, y_ax_1],\n",
    "                    layout={'min_width': '900px', 'max_height': '200px'}, legend_style = {'fill': 'white', 'opacity': 0.5})\n",
    "widgets.VBox([fig_1])"
   ]
  },
  {
   "cell_type": "markdown",
   "metadata": {},
   "source": [
    "### Definition of reservoir simulation function and initial storage\n",
    "Next, we need to import the iRONs function that implements the reservoir simulation (this function iteratively applies the mass balance equation so to reconstruct the temporal evolution of the reservoir variables over the simulation period). We also need to specify the initial storage volume to start the simulation."
   ]
  },
  {
   "cell_type": "code",
   "execution_count": 7,
   "metadata": {},
   "outputs": [],
   "source": [
    "### Import the reservoir simulation function ###\n",
    "from irons.Software.res_sys_sim import res_sys_sim\n",
    "### Define initial storage for simulation ###\n",
    "s_ini = 140 # ML - initial storage volume"
   ]
  },
  {
   "cell_type": "markdown",
   "metadata": {},
   "source": [
    "### Definition of the system objectives\n",
    "Last, we need to define the objectives that we want to be maximised by the operating policy. As anticipated in the Introduction of this Notebook, our illustrative reservoir is operated to support domestic supply while maintaining the reservoir level above a prescribed target (this could be, for example, because the quality of the water deteriorates when levels are low, requiring more costly treatment).\n",
    "We will pursue the first objective by minimising the following Total Squared Deficit (TDC) with respect to the historical water demand:\n",
    "\n",
    "$$TSD = \\sum_{t=1}^{N} [ \\ max( \\ 0, \\ d(t)-Qreg\\_rel(t) \\ ) \\ ]^2 $$\n",
    "\n",
    "where N is the length of the simulation period and d(t) is the water demand for each time-interval in that period. Notice that the function $max(0,...)$ enables us to only count the difference between demand d and release u when this is positive, that is, when the release u is smaller than the demand d, and a water shortage is indeed produced. Also, the squaring is a 'mathematical trick' to make sure that larger deficit amounts are given more weight than smaller ones. This translates the fact that small deficit amounts are easier to mitigate and hence more acceptable, while larger ones can cause disproportionately severe impacts and should be avoided as much as possible.\n",
    "\n",
    "We are also interested in minimising the chances that the reservoir level goes below a critical threshold. We measure how well this criterion is satisfied by the following Critical Storage Violation (CSV) function:\n",
    "\n",
    "$$CSV = \\sum_{t=1}^{N} [ \\ max ( \\ cs - s(t) , \\ 0) \\ ] $$\n",
    "\n",
    "where, again, N is the length of the simulation period, s is the reservoir storage, and cs is the critical storage threshold that should preferably not be transpassed. For our case, let's set this threshold to 40 ML."
   ]
  },
  {
   "cell_type": "code",
   "execution_count": 8,
   "metadata": {},
   "outputs": [],
   "source": [
    "N = len(date)\n",
    "cs = np.zeros((N+1,1))+40  # (ML)  critical storage threshold"
   ]
  },
  {
   "cell_type": "markdown",
   "metadata": {},
   "source": [
    "### Determining the optimal operating policy via interactive visualisation\n",
    "\n",
    "Now use the sliders to modify the parameters of the operating policy in a way that minimises the Total Squared Deficit (TSD) and the Critical Storage Violation (CSV)."
   ]
  },
  {
   "cell_type": "code",
   "execution_count": 9,
   "metadata": {},
   "outputs": [
    {
     "data": {
      "application/vnd.jupyter.widget-view+json": {
       "model_id": "042447a4343d40a28e6f326aa89c834c",
       "version_major": 2,
       "version_minor": 0
      },
      "text/plain": [
       "VBox(children=(HBox(children=(HBox(children=(FloatSlider(value=15.0, continuous_update=False, description='u_r…"
      ]
     },
     "metadata": {},
     "output_type": "display_data"
    }
   ],
   "source": [
    "u_ini = u_0, u_1, u_2, u_3\n",
    "d = d + np.zeros((N,1))\n",
    "fig_1a,fig_1b,fig_1c, u_ref,s_ref_1,s_ref_2 = Interactive_piecewiselin_manual(res_sys_sim, op_piecewiselin_1res,\n",
    "                                                                        date,\n",
    "                                                                        I_data_week, e_data_week, \n",
    "                                                                        s_ini, s_min, s_max, \n",
    "                                                                        u_ini, Qreg_rel_min, Qreg_rel_max, \n",
    "                                                                        cs, d)\n",
    "\n",
    "Box_layout = widgets.Layout(justify_content='center')\n",
    "widgets.VBox([widgets.HBox(\n",
    "    [widgets.HBox([u_ref, widgets.VBox([s_ref_1,s_ref_2])],layout=Box_layout), fig_1a],layout=Box_layout),fig_1b,fig_1c],layout=Box_layout)"
   ]
  },
  {
   "cell_type": "markdown",
   "metadata": {},
   "source": [
    "## From manual to automatic optimization \n",
    "As we have seen, when we deal with two conflicting objectives, we cannot find a solution that optimise both simoultaneously. If we prioritize one objective, the other one is deteriorated: there is a trade-off between the two. It would then be interesting to explore this tradeoff, and find a set of operating policies that produce different optimal combinations of the two objectives. However, this is too cumbersome to do manually, so we can use a multi-objective optimisation algorithm to do that for us. The algorithm will automatically test a very large number of combinations of the policy parameters u_ref, s_ref_1, s_ref_2, until it finds a set of combinations that realise (approximately) optimal tradeoffs.\n",
    "\n",
    "Here we use a multi-objective optimisation algorithm called NSGAII, which is implemented in the Python Platypus package. For more information about these methods and tools, see [Deb et al, 2002](https://ieeexplore.ieee.org/document/996017) and the [Platypus webpage](https://platypus.readthedocs.io). The code to run the optimisation is the following:"
   ]
  },
  {
   "cell_type": "code",
   "execution_count": 10,
   "metadata": {
    "scrolled": false
   },
   "outputs": [],
   "source": [
    "def auto_optim(vars):\n",
    "\n",
    "    u_ref  = vars[0]\n",
    "    s_1    = vars[1]\n",
    "    s_2    = vars[2]\n",
    "    \n",
    "    x0 = [s_0, u_0]\n",
    "    x1 = [s_1, u_ref]\n",
    "    x2 = [s_2, u_ref]\n",
    "    x3 = [s_3, u_3]\n",
    "    param = x0, x1, x2, x3\n",
    "    # Release policy #\n",
    "    policy_rel = op_piecewiselin_1res(param)\n",
    "    \n",
    "    Qreg = {'releases' : {'type'  : 'operating policy',\n",
    "                          'input' : policy_rel},\n",
    "            'inflows' : [],\n",
    "            'rel_inf' : []}\n",
    "    \n",
    "    Qenv, Qspill, Qreg_rel, Qreg_inf, s, E = res_sys_sim(\n",
    "                                               I_data_week, e_data_week, \n",
    "                                               s_ini, s_min, s_max, \n",
    "                                               env_min, d, \n",
    "                                               Qreg)\n",
    "    \n",
    "    TSD = (np.sum((np.maximum(d-Qreg_rel,np.zeros((N,1))))**2)).astype('int')\n",
    "    CSV = (np.sum((np.maximum(cs-s,np.zeros((N+1,1)))))).astype('int')\n",
    "    \n",
    "    constraints = [s_2-s_1]\n",
    "    \n",
    "    return [TSD, CSV], constraints\n",
    "\n",
    "problem = Problem(3,2,1)\n",
    "Real0   = Real(0,u_3); Real1 = Real(0, 1); Real2 = Real(0, 1)\n",
    "\n",
    "problem.types[:]       = [Real0] + [Real1] + [Real2]\n",
    "problem.constraints[:] = \">=0\"\n",
    "problem.function       = auto_optim\n",
    "\n",
    "population_size = 50\n",
    "algorithm       = NSGAII(problem,population_size)\n",
    "algorithm.run(1000) # Number of iterations\n",
    "\n",
    "results1_optim = np.array([algorithm.result[i].objectives[0] for i in range(population_size)])\n",
    "results2_optim = np.array([algorithm.result[i].objectives[1] for i in range(population_size)])\n",
    "\n",
    "sol_optim = [algorithm.result[i].variables for i in range(population_size)]"
   ]
  },
  {
   "cell_type": "markdown",
   "metadata": {},
   "source": [
    "#### Plot the optimisation results\n",
    "We can visualise the tradeoffs between the two objectives in one plot, called Pareto front, which displays the combination of the two objective values in correspondence to a set of optimised solutions. Click on one point in the Pareto front to visualise the operating policy that generates that performance, and associated storage time series.  What do you think would be a balanced solution? Why most of the optimal solutions have the same water deficit every week?"
   ]
  },
  {
   "cell_type": "code",
   "execution_count": 11,
   "metadata": {},
   "outputs": [],
   "source": [
    "fig_pf, fig_2a,fig_2b,fig_2c = Interactive_piecewiselin_auto(res_sys_sim, op_piecewiselin_1res,\n",
    "                                                       date, \n",
    "                                                       I_data_week, e_data_week, \n",
    "                                                       s_ini, s_min, s_max, \n",
    "                                                       u_ini, Qreg_rel_min, Qreg_rel_max,\n",
    "                                                       cs, d, \n",
    "                                                       results1_optim,results2_optim,sol_optim)"
   ]
  },
  {
   "cell_type": "markdown",
   "metadata": {},
   "source": [
    "Plot"
   ]
  },
  {
   "cell_type": "code",
   "execution_count": 12,
   "metadata": {
    "code_folding": [],
    "scrolled": false
   },
   "outputs": [
    {
     "data": {
      "application/vnd.jupyter.widget-view+json": {
       "model_id": "496459b22fed4dd296f5748ccb62c081",
       "version_major": 2,
       "version_minor": 0
      },
      "text/plain": [
       "VBox(children=(HBox(children=(Figure(animation_duration=1000, axes=[Axis(label='Total squared deficit [ML^2]',…"
      ]
     },
     "metadata": {},
     "output_type": "display_data"
    }
   ],
   "source": [
    "Box_layout = widgets.Layout(justify_content='center')\n",
    "widgets.VBox([widgets.HBox(\n",
    "    [fig_pf, fig_2a],layout=Box_layout),fig_2b,fig_2c],layout=Box_layout)"
   ]
  },
  {
   "cell_type": "markdown",
   "metadata": {},
   "source": [
    "### References \n",
    "\n",
    "Deb K. et al (2002) A fast and elitist multiobjective genetic algorithm: NSGA-II, IEEE Transactions on Evolutionary Computation, 6(2), 182-197, doi:10.1109/4235.996017.\n",
    "\n",
    "Dobson B. et al (2019) An argument-driven classification and comparison of reservoir operation optimization methods, Advances in Water Resources, 128, 74-86.\n",
    "\n",
    "Loucks D. P. et al (1981) Water resource systems planning and analysis, Prentice-Hall."
   ]
  }
 ],
 "metadata": {
  "kernelspec": {
   "display_name": "Python 3",
   "language": "python",
   "name": "python3"
  },
  "language_info": {
   "codemirror_mode": {
    "name": "ipython",
    "version": 3
   },
   "file_extension": ".py",
   "mimetype": "text/x-python",
   "name": "python",
   "nbconvert_exporter": "python",
   "pygments_lexer": "ipython3",
   "version": "3.8.5"
  },
  "varInspector": {
   "cols": {
    "lenName": 16,
    "lenType": 16,
    "lenVar": 40
   },
   "kernels_config": {
    "python": {
     "delete_cmd_postfix": "",
     "delete_cmd_prefix": "del ",
     "library": "var_list.py",
     "varRefreshCmd": "print(var_dic_list())"
    },
    "r": {
     "delete_cmd_postfix": ") ",
     "delete_cmd_prefix": "rm(",
     "library": "var_list.r",
     "varRefreshCmd": "cat(var_dic_list()) "
    }
   },
   "types_to_exclude": [
    "module",
    "function",
    "builtin_function_or_method",
    "instance",
    "_Feature"
   ],
   "window_display": false
  }
 },
 "nbformat": 4,
 "nbformat_minor": 2
}
