{
 "cells": [
  {
   "cell_type": "markdown",
   "metadata": {},
   "source": [
    "*This is a Jupyter Notebook. It is an interactive document that contains both rich text elements such as figures, links, equations, etc. and executable code (in this case Python code) contained in cells.\n",
    "**Instructions:** You can execute the blocks of code one at the time by placing the mouse in the grey box and pressing shift + enter. An asterisk will appear in the brackets at the top left of the box while the code is being exectued (this may take few seconds) and turns into a number when the execution is over. Alternatively,you can run the whole notebook in a single step by clicking on the menu Cell -> Run All.*\n",
    "\n",
    "# Calibration and evaluation of a rainfall-runoff model"
   ]
  },
  {
   "cell_type": "markdown",
   "metadata": {},
   "source": [
    "Imagine that we want to simulate the natural inflows into a water reservoir, knowing the amount of rainfall that has fallen in the reservoir’s catchment area. For that purpose, we can use a rainfall-runoff model. A rainfall-runoff model is a mathematical model describing the rainfall–runoff processes that occur in a watershed. The model consists of a set of equations, which describe the various processes of soil infiltration, surface and subsurface runoff, etc., as a function of various parameters, which describe the hydrological characteristics of the watershed, ultimately enabling the estimation of the flow at selected river sections.\n",
    "\n",
    "To tailor a generic rainfall-runoff model to a particular catchment, model calibration is required. Model calibration is the process of adjusting the model parameters to obtain a representation of the system under study that satisfies pre-agreed criteria. Normally, calibration of a rainfall-runoff model aims to improve the fit of the simulated flows to observed flows and involves running the model many times under different combinations of the parameter values, until a combination is found that minimise the differences between simulated and observed flows. \n",
    " \n",
    "\n",
    "## The HBV rainfall-runoff model: general structure\n",
    "In this example, we will use the HBV rainfall-runoff model [(Bergström, 1992)](https://www.smhi.se/en/publications/the-hbv-model-its-structure-and-applications-1.83591). The HBV model is a lumped hydrological model, meaning that all the processes included in the model are spatially aggregated into “conceptual” representations at the catchment scale.   In brief, the structure, forcing inputs, parameters and output of the model are the following.\n",
    "\n",
    "#### Structure\n",
    "\n",
    "The model consists of four main modules/subroutines: \n",
    "1. **SM module**: for soil moisture (***SM***), actual evapotranspiration (***EA***) and recharge estimation (***R***)\n",
    "2. **UZ module**: for upper zone runoff generation (***Q0*** = surface runoff + interflow) and percolation (***PERC*** = water flux from upper to lower zone) \n",
    "3. **LZ module**: for lower zone runoff generation (***Q1*** = baseflow)\n",
    "4. **Routing module**: for runoff routing.\n",
    "\n",
    "<left><img src=\"../../Software/HBV model structure.png\" width = \"800px\"><left>\n",
    "\n",
    "#### Forcing inputs\n",
    "\n",
    "The forcing inputs of the model simulation are time series of observed precipitation (***P***) and estimated potential evapotranspiration (***E***) – these are the spatial averages of precipitation and evapotranspiration across the watershed area. Usually these time series are given at daily resolution, and this will be the case in our example too, but it is possible to use shorter time steps.\n",
    "\n",
    "#### Model parameters:\n",
    "In order to tailor the general model equations to the particular watershed under study, we need to specify the watershed surface area, and a number of other parameters that characterise the climate, geology, soil properties, etc. of that place. These parameters are: \n",
    "\n",
    "\n",
    "1. ***SSM0***    = initial soil moisture [mm]\n",
    "2. ***SUZ0***    = initial Upper Zone storage [mm]\n",
    "3. ***SLZ0***    = initial Lower Zone storage [mm]\n",
    "4. ***BETA***    = Exponential parameter in soil routine [-]\n",
    "5. ***LP***      = Limit for potential evapotranspiration [-]\n",
    "6. ***FC***      = Maximum soil moisture content [mm] \n",
    "7. ***PERC***    = Maximum flux from Upper to Lower Zone [mm/day]\n",
    "8. ***K0***      = Near surface flow coefficient\n",
    "9. ***K1***      = Recession coefficient for the Upper Zone (ratio) [1/day]\n",
    "10. ***K2***     = Recession coefficient for the Lower Zone (ratio) [1/day]\n",
    "11. ***UZL***    = Near surface flow threshold [mm]\n",
    "12. ***MAXBAS*** = Transfer function parameter [day]\n",
    "\n",
    "#### Model outputs\n",
    "For a given selection of the model parameters and forcing input time series, the model simulation returns time series of the following state and flux variables: \n",
    "\n",
    "1. ***EA***    = Actual Evapotranspiration [mm/day]\n",
    "2. ***SM***    = Soil Moisture [mm]\n",
    "3. ***R***     = Recharge (water flow from Soil to Upper Zone) [mm/day]\n",
    "4. ***UZ***    = Upper Zone water content [mm]\n",
    "5. ***LZ***    = Lower Zone water content [mm]\n",
    "6. ***RL***    = Recharge to the Lower Zone [mm]\n",
    "7. ***Q0***    = Water flow from Upper Zone [ML/day]\n",
    "8. ***Q1***    = Water flow from Lower Zone [ML/day]\n",
    "9. ***Qsim*** = Total water flow [ML/day]"
   ]
  },
  {
   "cell_type": "markdown",
   "metadata": {},
   "source": [
    "To run the model we need to import some necessary libraries. (🚨 in order to run the code like in the box below, place the mouse pointer in the cell, then click on “▶ Run” button above or press shift + enter)"
   ]
  },
  {
   "cell_type": "code",
   "execution_count": 1,
   "metadata": {},
   "outputs": [],
   "source": [
    "# Libraries for visualization and interactivity\n",
    "from bqplot import pyplot as plt\n",
    "from bqplot import *\n",
    "from bqplot.traits import *\n",
    "import ipywidgets as widgets\n",
    "from IPython.display import display\n",
    "# Library for scientific computing\n",
    "import numpy as np\n",
    "# Library for manipulating dates and times\n",
    "from datetime import datetime, timedelta\n",
    "# # Library for general purposes\n",
    "import sys\n",
    "warnings.filterwarnings('ignore') # to ignore warning messages"
   ]
  },
  {
   "cell_type": "markdown",
   "metadata": {},
   "source": [
    "We also need to import several tools from the iRONs toolbox (🚨 again, in order to run the code place the mouse pointer in the cell below, then click on “▶ Run” button above or press shift + enter. Please make sure that you run each cell of code as you advance on the Notebook):"
   ]
  },
  {
   "cell_type": "code",
   "execution_count": 2,
   "metadata": {},
   "outputs": [],
   "source": [
    "from irons.Software.HBV_sim import HBV_sim # HBV model\n",
    "from irons.Software.HBV_calibration import HBV_calibration # HBV model calibration"
   ]
  },
  {
   "cell_type": "markdown",
   "metadata": {},
   "source": [
    "# Application to the Wimbleball reservoir's catchment\n",
    "\n",
    "The catchment is, located in the south-west of England, it has a drainage area of 28.8 km2, and collects water from the river Haddeo and drains into the Wimbleball reservoir.  \n",
    "\n",
    "## Loading and visualizing data\n",
    "\n",
    "### Area\n",
    "Let’s first define the extent of the watershed surface area."
   ]
  },
  {
   "cell_type": "code",
   "execution_count": 3,
   "metadata": {},
   "outputs": [],
   "source": [
    "area = 28.8 # km2"
   ]
  },
  {
   "cell_type": "markdown",
   "metadata": {},
   "source": [
    "### Climate data \n",
    "We call a sub-routine to load daily historical climate data (evapotranspiration, precipitation and temperature) of our study area for the year 2000."
   ]
  },
  {
   "cell_type": "code",
   "execution_count": 4,
   "metadata": {},
   "outputs": [],
   "source": [
    "from Modules.Historical_data import Climate_data, Flow_data # To load historical climate and streamflow data\n",
    "cal_year = 2000\n",
    "clim_date, E, P, T = Climate_data(cal_year)"
   ]
  },
  {
   "cell_type": "markdown",
   "metadata": {},
   "source": [
    "Plotting the precipitation data"
   ]
  },
  {
   "cell_type": "code",
   "execution_count": 5,
   "metadata": {
    "code_folding": []
   },
   "outputs": [
    {
     "data": {
      "application/vnd.jupyter.widget-view+json": {
       "model_id": "e882ad4ab82f4a3ca8c04197f592682c",
       "version_major": 2,
       "version_minor": 0
      },
      "text/plain": [
       "Figure(axes=[Axis(label='date', scale=DateScale()), Axis(label='mm/day', orientation='vertical', scale=LinearS…"
      ]
     },
     "metadata": {},
     "output_type": "display_data"
    }
   ],
   "source": [
    "# Let's create a scale for the x attribute, and a scale for the y attribute\n",
    "x_sc_1 = DateScale()\n",
    "y_sc_1 = LinearScale()\n",
    "\n",
    "x_ax_1 = Axis(label='date', scale=x_sc_1)\n",
    "y_ax_1 = Axis(label='mm/day', scale=y_sc_1, orientation='vertical')\n",
    "\n",
    "fig_1 = plt.figure(title = 'daily precipitation', axes=[x_ax_1, y_ax_1], scales={'x': x_sc_1, 'y': y_sc_1},\n",
    "                   layout={'min_width': '1000px', 'max_height': '300px'})\n",
    "precip_bars = plt.bar(clim_date,P,colors=['blue'],stroke = 'lightgray')\n",
    "fig_1"
   ]
  },
  {
   "cell_type": "markdown",
   "metadata": {},
   "source": [
    "### Observed flow\n",
    "We call a sub-routine to load daily historical flow data of our watershed area for the year 2000 (this data will be used to compare against the model predictions)."
   ]
  },
  {
   "cell_type": "code",
   "execution_count": 6,
   "metadata": {},
   "outputs": [],
   "source": [
    "Q_obs_date, Q_obs = Flow_data(cal_year)"
   ]
  },
  {
   "cell_type": "markdown",
   "metadata": {},
   "source": [
    "Plotting the observed flow data"
   ]
  },
  {
   "cell_type": "code",
   "execution_count": 7,
   "metadata": {
    "code_folding": []
   },
   "outputs": [
    {
     "data": {
      "application/vnd.jupyter.widget-view+json": {
       "model_id": "ace9cd96f48140fdac3f107bf21e107c",
       "version_major": 2,
       "version_minor": 0
      },
      "text/plain": [
       "Figure(axes=[Axis(label='date', scale=DateScale()), Axis(label='ML/day', orientation='vertical', scale=LinearS…"
      ]
     },
     "metadata": {},
     "output_type": "display_data"
    }
   ],
   "source": [
    "x_sc_2 = DateScale()\n",
    "y_sc_2 = LinearScale(max=1200)\n",
    "\n",
    "x_ax_2 = Axis(label='date', scale=x_sc_2)\n",
    "y_ax_2 = Axis(label='ML/day', scale=y_sc_2, orientation='vertical')\n",
    "\n",
    "fig_2 = plt.figure(title = 'observed daily water flow', axes=[x_ax_2, y_ax_2],scales={'x': x_sc_2, 'y': y_sc_2},\n",
    "                   layout={'min_width': '1000px', 'max_height': '300px'})\n",
    "obs_flow = plt.plot(Q_obs_date,Q_obs,colors=['black'])\n",
    "fig_2"
   ]
  },
  {
   "cell_type": "markdown",
   "metadata": {},
   "source": [
    "# Manual model calibration"
   ]
  },
  {
   "cell_type": "markdown",
   "metadata": {},
   "source": [
    "First we will try to calibrate the model manually, that is, changing the parameter values one at the time and looking at the effects induced in the model predictions by means of an interactive plot of the simulated hydrograph. The objective is to obtain a good fit of the simulated hydrograph to the observed one.\n",
    "\n",
    "To measure the goodness-of-fit between the simulated and the observed flow we will use the root mean square error (RMSE). RMSE is the standard deviation of the prediction errors, i.e. the difference between the simulated (***s(t)***) and the observed (***o(t)***) hydrograph.\n",
    "$$RMSE = \\sqrt{\\frac{\\sum_{t=0}^{T} (s(t)-o(t))^{2}}{T}}$$\n",
    "\n",
    "First, let’s execute the code below to define the sliders that will later appear in the interactive hydrograph: "
   ]
  },
  {
   "cell_type": "code",
   "execution_count": 8,
   "metadata": {
    "code_folding": []
   },
   "outputs": [],
   "source": [
    "# Interactive sliders definition\n",
    "def update_sim_hyd(P,E,param,Case,ini):\n",
    "    Q_sim,[SM,UZ,LZ],[EA,R,RL,Q0,Q1] = HBV_sim(P,E,param,Case,ini,area)\n",
    "    RMSE = np.sqrt(((Q_sim - Q_obs) ** 2).mean())\n",
    "    return Q_sim,RMSE\n",
    "\n",
    "def params_changed(change):\n",
    "    y_vals = update_sim_hyd(P,E,[BETA.value, LP.value, FC.value, PERC.value, K0.value, K1.value, K2.value, \n",
    "                                 UZL.value, MAXBAS.value],1,[SSM0.value,SUZ0.value,SLZ0.value])[0]\n",
    "    RMSE = update_sim_hyd(P,E,[BETA.value, LP.value, FC.value, PERC.value, K0.value, K1.value, K2.value, \n",
    "                               UZL.value, MAXBAS.value],1,[SSM0.value,SUZ0.value,SLZ0.value])[1]\n",
    "    sim_hyd.y = y_vals\n",
    "    fig_3.title = 'RMSE = ' +str(\"%.2f\" % RMSE)\n",
    "\n",
    "SSM0 = widgets.FloatSlider(min = 0, max = 400, step=10, value = 200, description = 'Initial soil moisture ($mm$)',\n",
    "                           style = {'description_width': '300px'} ,layout={'width': '600px'})\n",
    "SSM0.observe(params_changed,'value')\n",
    "SUZ0 = widgets.FloatSlider(min = 0, max = 100, step=.5, value = 50, description = 'Initial water content of UZ ($mm$)',\n",
    "                           style = {'description_width': '300px'} ,layout={'width': '600px'})\n",
    "SUZ0.observe(params_changed,'value')\n",
    "SLZ0 = widgets.FloatSlider(min = 0, max = 100, step=.5, value = 50, description = 'Initial water content of LZ ($mm$)',\n",
    "                           style = {'description_width': '300px'} ,layout={'width': '600px'})\n",
    "SLZ0.observe(params_changed,'value')\n",
    "BETA = widgets.FloatSlider(min = 0, max = 7, value = 3.5, description = 'Exponential parameter in soil routine (-)',\n",
    "                           style = {'description_width': '300px'} ,layout={'width': '600px'})\n",
    "BETA.observe(params_changed,'value')\n",
    "LP = widgets.FloatSlider(min = 0.3, max = 1, step=0.05,value = 0.65,description = 'Limit for potential evapotranspiration (-)',\n",
    "                         style = {'description_width': '300px'} ,layout={'width': '600px'})\n",
    "LP.observe(params_changed,'value')\n",
    "FC = widgets.FloatSlider(min = 1, max = 2000, value = 1000, description = 'Maximum soil moisture content ($mm$)',\n",
    "                         style = {'description_width': '300px'} ,layout={'width': '600px'})\n",
    "FC.observe(params_changed,'value')\n",
    "PERC = widgets.FloatSlider(min = 0, max = 100, value = 50, description = 'Maximum flow from UZ to LZ ($mm$ $day^{-1}$)',\n",
    "                           style = {'description_width': '300px'} ,layout={'width': '600px'})\n",
    "PERC.observe(params_changed,'value')\n",
    "K0 = widgets.FloatSlider(min = 0, max = 2, step=0.05, value = 1, description = 'Near surface flow coefficient (-)',\n",
    "                         style = {'description_width': '300px'} ,layout={'width': '600px'})\n",
    "K0.observe(params_changed,'value')\n",
    "K1 = widgets.FloatSlider(min = 0, max = 1, value = 0.5, description = 'Recession coefficient for UZ ($day^{-1}$)',\n",
    "                         style = {'description_width': '300px'} ,layout={'width': '600px'})\n",
    "K1.observe(params_changed,'value')\n",
    "K2 = widgets.FloatSlider(min = 0, max = 0.1, step=0.005,value = 0.05,description = 'Recession coefficient for LZ ($day^{-1}$)',\n",
    "                         style = {'description_width': '300px'} ,layout={'width': '600px'})\n",
    "K2.observe(params_changed,'value')\n",
    "UZL = widgets.FloatSlider(min = 0, max = 100, value = 50, description = 'Near surface flow threshold ($mm$)',\n",
    "                          style = {'description_width': '300px'} ,layout={'width': '600px'})\n",
    "UZL.observe(params_changed,'value')\n",
    "MAXBAS = widgets.FloatSlider(min = 1, max = 6, step=0.5, value = 3.5, description = 'Transfer function parameter ($day$)',\n",
    "                             style = {'description_width': '300px'} ,layout={'width': '600px'})\n",
    "MAXBAS.observe(params_changed,'value')"
   ]
  },
  {
   "cell_type": "markdown",
   "metadata": {},
   "source": [
    "Now, let’s play with the interactive hydrograph! To start try to visually fit the simulated hydrograph to the observed one in January by playing only with the parameters defining the initial conditions and the **Maximum soil moisture content**:"
   ]
  },
  {
   "cell_type": "code",
   "execution_count": 9,
   "metadata": {},
   "outputs": [
    {
     "data": {
      "application/vnd.jupyter.widget-view+json": {
       "model_id": "989aa34298a24037b26b1b639885c4b8",
       "version_major": 2,
       "version_minor": 0
      },
      "text/plain": [
       "VBox(children=(Figure(animation_duration=1000, axes=[Axis(label='date', scale=DateScale()), Axis(label='ML/day…"
      ]
     },
     "metadata": {},
     "output_type": "display_data"
    }
   ],
   "source": [
    "x_ax_3 = Axis(label='date', scale=x_sc_2)\n",
    "y_ax_3 = Axis(label='ML/day', scale=y_sc_2, orientation='vertical')\n",
    "\n",
    "ini = [SSM0.value,SUZ0.value,SLZ0.value]\n",
    "param = [BETA.value, LP.value, FC.value, PERC.value, K0.value, K1.value, K2.value, UZL.value, MAXBAS.value]\n",
    "\n",
    "fig_3 = plt.figure(title = 'RMSE = ' +str(\"%.2f ML/day\" % update_sim_hyd(P,E,param,1,ini)[1]), axes=[x_ax_3, y_ax_3],\n",
    "                   scales={'x': x_sc_2, 'y': y_sc_2}, layout={'min_width': '900px', 'max_height': '200px'}, \n",
    "                   animation_duration=1000,fig_margin = {'top':0, 'bottom':40, 'left':60, 'right':0})\n",
    "obs_hyd = plt.plot(Q_obs_date,Q_obs,colors=['black'])\n",
    "sim_hyd = plt.plot(Q_obs_date,update_sim_hyd(P,E,param,1,ini)[0])\n",
    "sim_hyd.observe(params_changed, ['x', 'y'])\n",
    "\n",
    "widgets.VBox([fig_3,SSM0,SUZ0,SLZ0,BETA, LP, FC, PERC, K0, K1, K2, UZL, MAXBAS])"
   ]
  },
  {
   "cell_type": "markdown",
   "metadata": {},
   "source": [
    "Then play with the value of the other parameters and try to get close or even lower than **RMSE = 90 ML/day**.\n",
    "We can see the complexity of manual calibration: it is difficult to find the combination of parameters that optimally fits the simulated hydrograph to the observed one."
   ]
  },
  {
   "cell_type": "markdown",
   "metadata": {},
   "source": [
    "# Automatic model calibration\n",
    "In order to facilitate the search for an optimal parameter combination we can apply an automatic optimization algorithm. In the cell below, the function HBV_calibration calls an optimization algorithm (the genetic algorithm NSGAII [(Deb et al, 2002)](https://ieeexplore.ieee.org/document/996017) from the [Platypus library](https://platypus.readthedocs.io/en/latest/#)) runs the model 1000 times to find among different parameter combinations the set of input parameters (***ini_all*** and ***param_all***) that best match the simulated flow with the observed one, i.e. the objective of the algorithm is minimize the RMSE value. **Comment:** Please be aware  that it may take a few seconds to run the cell below (while running you will see **In [*]** at the upper left-hand of the cell and when the computation has finished you will see a number between the brackets)"
   ]
  },
  {
   "cell_type": "code",
   "execution_count": 10,
   "metadata": {},
   "outputs": [],
   "source": [
    "cal_objective = 'all' # the objective is to minimize RMSE considering ALL the hydrograph  \n",
    "iterations = 1000 # number of iterations\n",
    "results_all,solution_all, RMSE_all = HBV_calibration(P,E,1,area, Q_obs, cal_objective,iterations)\n",
    "ini_all = solution_all[0][0:3] # Initial conditions\n",
    "param_all = solution_all[0][3:13] # Model parameters\n",
    "Q_sim_all,[SM,UZ,LZ],[EA,R,RL,Q0,Q1] = HBV_sim(P,E,param_all,1,ini_all,area) # Simulation using the optimal set of parameters"
   ]
  },
  {
   "cell_type": "markdown",
   "metadata": {},
   "source": [
    "#### Plot the automatically calibrated hydrograph vs the observed "
   ]
  },
  {
   "cell_type": "code",
   "execution_count": 11,
   "metadata": {},
   "outputs": [
    {
     "data": {
      "application/vnd.jupyter.widget-view+json": {
       "model_id": "08da8fd3514d46e89e18d87e11171d6f",
       "version_major": 2,
       "version_minor": 0
      },
      "text/plain": [
       "Figure(animation_duration=1000, axes=[Axis(label='date', scale=DateScale()), Axis(label='ML/day', orientation=…"
      ]
     },
     "metadata": {},
     "output_type": "display_data"
    }
   ],
   "source": [
    "Case = 1\n",
    "Q_sim_all,[SM,UZ,LZ],[EA,R,RL,Q0,Q1] = HBV_sim(P,E,param_all,Case,ini_all,area)\n",
    "x_ax_4 = Axis(label='date', scale=x_sc_2)\n",
    "y_ax_4 = Axis(label='ML/day', scale=y_sc_2, orientation='vertical')\n",
    "         \n",
    "fig_4 = plt.figure(title = 'RMSE = '+str(\"%.2f ML/day\" % RMSE_all[0]), axes=[x_ax_4, y_ax_4],scales={'x': x_sc_2, 'y': y_sc_2},\n",
    "                   layout={'min_width': '900px', 'max_height': '250px'}, animation_duration=1000,\n",
    "                   fig_margin = {'top':0, 'bottom':40, 'left':60, 'right':0})\n",
    "obs_hyd = plt.plot(Q_obs_date,Q_obs,colors=['black'])\n",
    "sim_hyd_all = plt.plot(Q_obs_date,Q_sim_all)\n",
    "fig_4"
   ]
  },
  {
   "cell_type": "markdown",
   "metadata": {},
   "source": [
    "***Comment:*** overall, the hydrograph of the automatically calibrated model seems to fit the observations quite well. However, if we look at low flow periods in particular, for example August and September 2000, we see that the model predictions tend to systematically overestimate the flows.  "
   ]
  },
  {
   "cell_type": "markdown",
   "metadata": {},
   "source": [
    "### Objective: improve the prediction of the low flows\n",
    "Imagine that our reservoir operation is very sensitive to low flows, for example because it is in low flow periods that exceptional supply management measures must be put in place. Then we would like our rainfall-runoff model to be more accurate in the prediction of the low flows, rather than the high flows. To achieve this, we can re-define the objective function as the RMSE of only the part of the hydrograph below the 50% percentile. Let’s visualise this part of the hydrograph:"
   ]
  },
  {
   "cell_type": "code",
   "execution_count": 12,
   "metadata": {},
   "outputs": [
    {
     "data": {
      "application/vnd.jupyter.widget-view+json": {
       "model_id": "2650d9c7051844c2b19da45ab03f8ebb",
       "version_major": 2,
       "version_minor": 0
      },
      "text/plain": [
       "Figure(animation_duration=1000, axes=[Axis(label='date', scale=DateScale()), Axis(label='ML/day', orientation=…"
      ]
     },
     "metadata": {},
     "output_type": "display_data"
    }
   ],
   "source": [
    "x_ax_5 = Axis(label='date', scale=x_sc_2)\n",
    "y_ax_5 = Axis(label='ML/day', scale=y_sc_2, orientation='vertical')\n",
    "         \n",
    "fig_5 = plt.figure(title = 'Low flows: observed daily water flow < 50th percentile', axes=[x_ax_5, y_ax_5],\n",
    "                   scales={'x': x_sc_2, 'y': y_sc_2},layout={'min_width': '1000px', 'max_height': '300px'}, \n",
    "                   animation_duration=1000)\n",
    "obs_hyd_lt50 = plt.plot(x=Q_obs_date,y=Q_obs,colors=['black'])\n",
    "lt50 = plt.plot(x=Q_obs_date,y=np.minimum(Q_obs/Q_obs*np.percentile(Q_obs, 50),Q_obs),opacities = [0], \n",
    "                fill = 'bottom',fill_opacities = [0.5])\n",
    "p50  = plt.plot(x=Q_obs_date,y=Q_obs/Q_obs*np.percentile(Q_obs, 50), line_style = 'dashed')\n",
    "fig_5"
   ]
  },
  {
   "cell_type": "markdown",
   "metadata": {},
   "source": [
    "… and re-run the automatic calibration algorithm by using this new definition of the RMSE:"
   ]
  },
  {
   "cell_type": "code",
   "execution_count": 13,
   "metadata": {},
   "outputs": [],
   "source": [
    "cal_objective = 'low' # the objective is to minimize RMSE considering only low flows \n",
    "results_low,solution_low, RMSE_low = HBV_calibration(P,E,Case,area, Q_obs, cal_objective,iterations)\n",
    "ini_low = solution_low[0][0:3] # Initial conditions\n",
    "param_low = solution_low[0][3:13] # Model parameters\n",
    "Q_sim_low,[SM,UZ,LZ],[EA,R,RL,Q0,Q1] = HBV_sim(P,E,param_low,Case,ini_low,area)"
   ]
  },
  {
   "cell_type": "markdown",
   "metadata": {},
   "source": [
    "#### Plot the automatically hydrograph vs the observed "
   ]
  },
  {
   "cell_type": "code",
   "execution_count": 14,
   "metadata": {},
   "outputs": [
    {
     "data": {
      "application/vnd.jupyter.widget-view+json": {
       "model_id": "6b405a7bbd384fb48b943bc3dd361a73",
       "version_major": 2,
       "version_minor": 0
      },
      "text/plain": [
       "Figure(animation_duration=1000, axes=[Axis(label='date', scale=DateScale()), Axis(label='ML/day', orientation=…"
      ]
     },
     "metadata": {},
     "output_type": "display_data"
    }
   ],
   "source": [
    "x_ax_6 = Axis(label='date', scale=x_sc_2)\n",
    "y_ax_6 = Axis(label='ML/day', scale=y_sc_2, orientation='vertical')\n",
    "         \n",
    "fig_6 = plt.figure(title = 'RMSE = '+str(\"%.2f ML/day\" % RMSE_low[0]), axes=[x_ax_6, y_ax_6],scales={'x': x_sc_2, 'y': y_sc_2},\n",
    "                   layout={'min_width': '900px', 'max_height': '250px'}, animation_duration=1000,\n",
    "                   fig_margin = {'top':0, 'bottom':40, 'left':60, 'right':0})\n",
    "obs_hyd = plt.plot(Q_obs_date,Q_obs,colors=['black'])\n",
    "sim_hyd_low = plt.plot(Q_obs_date,Q_sim_low)\n",
    "fig_6"
   ]
  },
  {
   "cell_type": "markdown",
   "metadata": {},
   "source": [
    "***Comment:*** now the simulated hydrograph over the low flow periods August-September 2000 is much closer to the observations, but this comes at the expense of completely misrepresenting high flows! "
   ]
  },
  {
   "cell_type": "markdown",
   "metadata": {},
   "source": [
    "### Trading-off between conflicting objectives \n",
    "As we have seen in the previous example, the goodness-of-fit (as measured by the RMSE) between simulated and observed hydrograph is quite poor when the calibration aims to improve the low flow predictions only, because improving on low flows leads to much poorer predictions of all other flows. So there is a tradeoff between the two objective functions, and we may want to investigate this tradeoff and look for a parameter set that produces a ‘sensible compromise’. We can do this by using a multi-objective optimisation algorithm [(Yapo et al, 1998)](https://www.sciencedirect.com/science/article/pii/S0022169497001078), which will find a set of parameter combinations that realise different ‘optimal’ compromises between fitting high and low flows (also called Pareto-optimal solutions) [Learn more about the Pareto optimality](https://www.youtube.com/watch?v=cT3DcuZnsGs)"
   ]
  },
  {
   "cell_type": "code",
   "execution_count": 15,
   "metadata": {},
   "outputs": [],
   "source": [
    "cal_objective = 'double' # two objectives (RMSE of low and high flows)\n",
    "population_size = 100 # number of Pareto-optimal solutions\n",
    "results_double_low,results_double_high,solution_double, RMSE_double = HBV_calibration(\n",
    "    P,E,Case,area, Q_obs, cal_objective,iterations,population_size)"
   ]
  },
  {
   "cell_type": "markdown",
   "metadata": {},
   "source": [
    "#### Plot the interactive Pareto front\n",
    "Now select the set of parameters that produces a more \"sensible compromise\" between the objectives by clicking on the Pareto front points."
   ]
  },
  {
   "cell_type": "code",
   "execution_count": 16,
   "metadata": {
    "code_folding": [],
    "scrolled": false
   },
   "outputs": [
    {
     "data": {
      "application/vnd.jupyter.widget-view+json": {
       "model_id": "4d05f5aa451945fcb6ecafd3df55fac3",
       "version_major": 2,
       "version_minor": 0
      },
      "text/plain": [
       "VBox(children=(Figure(animation_duration=1000, axes=[Axis(label='RMSE Low flows', scale=LinearScale()), Axis(l…"
      ]
     },
     "metadata": {},
     "output_type": "display_data"
    }
   ],
   "source": [
    "# Interactive Pareto front code (Calibration)\n",
    "def update_sol_hyd(i):\n",
    "    ini_double = solution_double[i][0:3]\n",
    "    param_double = solution_double[i][3:]\n",
    "    Q_sim_double,[SM,UZ,LZ],[EA,R,RL,Q0,Q1] = HBV_sim(P,E,param_double,Case,ini_double,area)\n",
    "    RMSE = RMSE_double[i]\n",
    "    fig_7.title = 'RMSE = '+str(\"%.2f ML/day\" % RMSE)\n",
    "    return Q_sim_double, RMSE, i\n",
    "\n",
    "def solution_selected(change):\n",
    "    if pareto_front.selected == None:\n",
    "        pareto_front.selected = [0]\n",
    "    y_vals = update_sol_hyd(pareto_front.selected[0])[0]\n",
    "    sim_hyd_double.y = y_vals\n",
    "\n",
    "x_sc_pf = LinearScale()\n",
    "y_sc_pf = LinearScale()\n",
    "\n",
    "x_ax_pf = Axis(label='RMSE Low flows', scale=x_sc_pf)\n",
    "y_ax_pf = Axis(label='RMSE High flows', scale=y_sc_pf, orientation='vertical')\n",
    "  \n",
    "fig_pf = plt.figure(title = 'Interactive Pareto front (Calibration)', axes=[x_ax_pf, y_ax_pf],\n",
    "                    layout={'width': '500px', 'height': '400px'}, animation_duration=1000,\n",
    "                    fig_margin = {'top':0, 'bottom':40, 'left':60, 'right':0})\n",
    "pareto_front = plt.scatter(results_double_low[:],results_double_high[:],scales={'x': x_sc_pf, 'y': y_sc_pf},\n",
    "                           colors=['deepskyblue'], interactions={'hover':'tooltip','click': 'select'})\n",
    "pareto_front.unselected_style={'opacity': 0.4}\n",
    "pareto_front.selected_style={'fill': 'red', 'stroke': 'yellow', 'width': '1125px', 'height': '125px'}\n",
    "def_tt = Tooltip(fields=['x', 'y'],labels=['RMSE (High flows)', 'RMSE (Low flows)'], formats=['.1f', '.1f'])\n",
    "pareto_front.tooltip=def_tt\n",
    "pareto_front.selected = [0]\n",
    "\n",
    "pareto_front.observe(solution_selected,'selected')    \n",
    "\n",
    "x_sc_7 = DateScale()\n",
    "y_sc_7 = LinearScale(max=1000)\n",
    "    \n",
    "x_ax_7 = Axis(scale=x_sc_7)\n",
    "y_ax_7 = Axis(label='ML/day', scale=y_sc_7, orientation='vertical')\n",
    "\n",
    "fig_7 = plt.figure(axes=[x_ax_7, y_ax_7], layout={'min_width': '900px', 'max_height': '250px'}, animation_duration=1000,\n",
    "                   scales={'x': x_sc_7, 'y': y_sc_7},fig_margin = {'top':0, 'bottom':40, 'left':60, 'right':0})\n",
    "obs_hyd = plt.plot(Q_obs_date,Q_obs,colors=['black'])\n",
    "sim_hyd_double = plt.plot(Q_obs_date,update_sol_hyd(pareto_front.selected[0])[0])\n",
    "sim_hyd_double.observe(solution_selected, ['x', 'y'])\n",
    "plt.VBox([fig_pf,fig_7])"
   ]
  },
  {
   "cell_type": "markdown",
   "metadata": {},
   "source": [
    "# Evaluation of the calibrated model against new data\n",
    "The calibration results that we have looked at so far, and in particular the values of the RMSE over the high and low flows, were based on the model simulations for the year 2000, that is, the same year that was used to calibrate the model in the first place. But how would the model perform when presented with new data, for instance those of the following year? To answer this question, we can run model simulations using the previously selected calibration (represented with a cross) against the forcing data of 2001, and calculate the RMSE values for this new year."
   ]
  },
  {
   "cell_type": "code",
   "execution_count": 17,
   "metadata": {
    "code_folding": []
   },
   "outputs": [
    {
     "data": {
      "application/vnd.jupyter.widget-view+json": {
       "model_id": "1536984e917849d996138bbf80bf5993",
       "version_major": 2,
       "version_minor": 0
      },
      "text/plain": [
       "VBox(children=(Figure(animation_duration=1000, axes=[Axis(label='RMSE Low flows', scale=LinearScale()), Axis(l…"
      ]
     },
     "metadata": {},
     "output_type": "display_data"
    }
   ],
   "source": [
    "# Interactive Pareto front code (Validation)\n",
    "val_year = cal_year + 1 # following year\n",
    "results_double_low_val = np.zeros(population_size); results_double_high_val = np.zeros(population_size)\n",
    "RMSE_double_val = np.zeros(population_size)\n",
    "clim_date_val, E_val, P_val, T_val = Climate_data(val_year)\n",
    "Q_obs_date_val, Q_obs_val = Flow_data(val_year)\n",
    "P_val = P_val*2\n",
    "Q_obs_val = Q_obs_val*2\n",
    "\n",
    "for i in range(population_size):\n",
    "\n",
    "    Q_sim_double_val,[SM,UZ,LZ],[EA,R,RL,Q0,Q1] = HBV_sim(P_val,E_val,solution_double[i][3:],\n",
    "                                                          Case,solution_double[i][0:3],area)\n",
    "    \n",
    "    high_flow_indexes = [Q_obs_val > np.percentile(Q_obs_val,50)]\n",
    "    Q_obs_high_val = Q_obs_val[high_flow_indexes]\n",
    "    Q_sim_double_high_val = Q_sim_double_val[high_flow_indexes]\n",
    "\n",
    "    low_flow_indexes = [Q_obs_val < np.percentile(Q_obs_val,50)]\n",
    "    Q_obs_low_val = Q_obs_val[low_flow_indexes]\n",
    "    Q_sim_double_low_val = Q_sim_double_val[low_flow_indexes]\n",
    "    \n",
    "    results_double_low_val[i]       = np.sqrt(((Q_sim_double_low_val - Q_obs_low_val) ** 2).mean())\n",
    "    results_double_high_val[i]       = np.sqrt(((Q_sim_double_high_val - Q_obs_high_val) ** 2).mean())\n",
    "    RMSE_double_val[i]        = np.sqrt(((Q_sim_double_val - Q_obs_val) ** 2).mean())\n",
    "\n",
    "def update_sol_hyd_val(i):\n",
    "    ini_double = solution_double[i][0:3]\n",
    "    param_double = solution_double[i][3:]\n",
    "    Q_sim_double_val,[SM,UZ,LZ],[EA,R,RL,Q0,Q1] = HBV_sim(P_val,E_val,param_double,Case,ini_double,area)\n",
    "    RMSE_val = RMSE_double_val[i]\n",
    "    fig_8.title = 'RMSE = '+str(\"%.2f\" % RMSE_val)\n",
    "    return Q_sim_double_val, RMSE_val, i\n",
    "\n",
    "def solution_selected_val(change):\n",
    "    if pareto_front_val.selected == None:\n",
    "        pareto_front_val.selected = [0]\n",
    "    y_vals = update_sol_hyd_val(pareto_front_val.selected[0])[0]\n",
    "    sim_hyd_double_val.y = y_vals\n",
    "\n",
    "x_sc_pf_val = LinearScale()\n",
    "y_sc_pf_val = LinearScale()\n",
    "\n",
    "x_ax_pf_val = Axis(label='RMSE Low flows', scale=x_sc_pf_val)\n",
    "y_ax_pf_val = Axis(label='RMSE High flows', scale=y_sc_pf_val, orientation='vertical')\n",
    "  \n",
    "fig_pf_val = plt.figure(title = 'Interactive Pareto front (Validation)', axes=[x_ax_pf_val, y_ax_pf_val],\n",
    "                        layout={'width': '500px', 'height': '400px'}, animation_duration=1000,\n",
    "                        fig_margin = {'top':0, 'bottom':40, 'left':60, 'right':0})\n",
    "pareto_front_selected = plt.scatter([results_double_low_val[pareto_front.selected[0]]],\n",
    "                                    [results_double_high_val[pareto_front.selected[0]]],\n",
    "                                    marker = 'cross',scales={'x': x_sc_pf_val, 'y': y_sc_pf_val},\n",
    "                           colors=['black'], interactions={'hover':'tooltip','click': 'select'})\n",
    "pareto_front_val = plt.scatter(results_double_low_val[:],results_double_high_val[:],\n",
    "                               scales={'x': x_sc_pf_val, 'y': y_sc_pf_val}, colors=['deepskyblue'], \n",
    "                               interactions={'hover':'tooltip','click': 'select'})\n",
    "pareto_front_val.unselected_style={'opacity': 0.4}\n",
    "pareto_front_val.selected_style={'fill': 'red', 'stroke': 'yellow', 'width': '1125px', 'height': '125px'}\n",
    "def_tt_val = Tooltip(fields=['x', 'y'],labels=['RMSE (High flows)', 'RMSE (Low flows)'], formats=['.1f', '.1f'])\n",
    "pareto_front_val.tooltip=def_tt_val\n",
    "pareto_front_val.selected = [pareto_front.selected[0]]\n",
    "\n",
    "pareto_front_val.observe(solution_selected_val,'selected')    \n",
    "\n",
    "x_sc_8 = DateScale()\n",
    "y_sc_8 = LinearScale(max=1000)\n",
    "    \n",
    "x_ax_8 = Axis(scale=x_sc_8)\n",
    "y_ax_8 = Axis(label='ML/day', scale=y_sc_8, orientation='vertical')\n",
    "\n",
    "fig_8 = plt.figure(axes=[x_ax_8, y_ax_8], layout={'min_width': '900px', 'max_height': '250px'}, animation_duration=1000,\n",
    "                   scales={'x': x_sc_8, 'y': y_sc_8},fig_margin = {'top':0, 'bottom':40, 'left':60, 'right':0})\n",
    "obs_hyd_val = plt.plot(Q_obs_date_val,Q_obs_val,colors=['black'])\n",
    "sim_hyd_double_val = plt.plot(Q_obs_date_val,update_sol_hyd_val(pareto_front_val.selected[0])[0])\n",
    "sim_hyd_double_val.observe(solution_selected_val, ['x', 'y'])\n",
    "plt.VBox([fig_pf_val,fig_8])"
   ]
  },
  {
   "cell_type": "markdown",
   "metadata": {},
   "source": [
    "We can see that the previously selected calibration for 2000 (represented by a cross) does not produce the same results when applied to 2001. The RMSE may be lower than before but do you see a good fit between the observed and the simulated hydrographs? Can you find a different point in the evaluation Pareto front that produces a \"sensible compromise\" between the objectives?"
   ]
  },
  {
   "cell_type": "markdown",
   "metadata": {},
   "source": [
    "### References \n",
    "\n",
    "Bergström, S. (1992) The HBV model - its structure and applications. SMHI Reports RH, No. 4, Norrköping.\n",
    "\n",
    "Deb K. et al (2002) A fast and elitist multiobjective genetic algorithm: NSGA-II, IEEE Transactions on Evolutionary Computation, 6(2), 182-197, doi:10.1109/4235.996017.\n",
    "\n",
    "Yapo, P. O. et al (1998) Multi‐objective global optimization for hydrologic models, Journal of Hydrology, 204, 83–97."
   ]
  }
 ],
 "metadata": {
  "kernelspec": {
   "display_name": "Python 3",
   "language": "python",
   "name": "python3"
  },
  "language_info": {
   "codemirror_mode": {
    "name": "ipython",
    "version": 3
   },
   "file_extension": ".py",
   "mimetype": "text/x-python",
   "name": "python",
   "nbconvert_exporter": "python",
   "pygments_lexer": "ipython3",
   "version": "3.8.5"
  },
  "varInspector": {
   "cols": {
    "lenName": 16,
    "lenType": 16,
    "lenVar": 40
   },
   "kernels_config": {
    "python": {
     "delete_cmd_postfix": "",
     "delete_cmd_prefix": "del ",
     "library": "var_list.py",
     "varRefreshCmd": "print(var_dic_list())"
    },
    "r": {
     "delete_cmd_postfix": ") ",
     "delete_cmd_prefix": "rm(",
     "library": "var_list.r",
     "varRefreshCmd": "cat(var_dic_list()) "
    }
   },
   "types_to_exclude": [
    "module",
    "function",
    "builtin_function_or_method",
    "instance",
    "_Feature"
   ],
   "window_display": false
  }
 },
 "nbformat": 4,
 "nbformat_minor": 4
}
