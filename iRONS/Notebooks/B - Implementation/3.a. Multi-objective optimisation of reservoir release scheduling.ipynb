{
 "cells": [
  {
   "cell_type": "markdown",
   "metadata": {},
   "source": [
    "# Multi-objective optimisation of reservoir release scheduling\n",
    "In this Notebook we will use a mathematical model to simulate some illustrative study-cases and a multi-objective optimizer to find optimal release and pumped inflows schedulings. The study cases will gradually biuld-up in complexity from a single reservoir system to a pumped reservoir system; and from a deterministic approach where forecast ensemble uncertainty is reduced a priori (=before running optimisation) to a stochastic approach where instead forecast ensemble uncertainty is explicitely considered within the optimisation process.\n",
    "\n",
    "## 1. Import libraries\n",
    "First, we need to import the necessary libraries and tools. (🚨 in order to run the code like in the box below, place the mouse pointer in the cell, then click on “run cell” button above or press shift + enter)"
   ]
  },
  {
   "cell_type": "code",
   "execution_count": null,
   "metadata": {},
   "outputs": [],
   "source": [
    "import numpy as np\n",
    "import pandas as pd\n",
    "import plotly.graph_objs as go\n",
    "from platypus import NSGAII, Problem, Real\n",
    "import sys\n",
    "import warnings\n",
    "warnings.filterwarnings('ignore')"
   ]
  },
  {
   "cell_type": "markdown",
   "metadata": {},
   "source": [
    "**Tools from the iRONS Software**"
   ]
  },
  {
   "cell_type": "code",
   "execution_count": null,
   "metadata": {},
   "outputs": [],
   "source": [
    "from irons.Software.read_data import read_csv_data\n",
    "from irons.Software.day2week2month import day2week"
   ]
  },
  {
   "cell_type": "markdown",
   "metadata": {},
   "source": [
    "## 2. Study case: Single reservoir system - Determinisitc forecast\n",
    "We consider a simple illustrative system of a reservoir operated to supply water to a domestic consumption node while ensuring a minimum environmental flow in the downstream river and maintaining the water level as high as possible to ensure the resource availability.\n",
    "\n",
    "### 2.1 The reservoir model\n",
    "<left><img src=\"../../util/images/System 1 layout.png\" width = \"400px\"><left>\n",
    "The mathematical model of the reservoir essentially consists of a water balance equation, where the storage (***s***) at a future time step (for example, at the beginning of the next week) is predicted from the storage at the current time (the beginning of the this week) by adding and subtracting the inflows and outflows that will occur during the temporal interval ahead:\n",
    "\n",
    "***s(t+1) = s(t) + I_S(t) – E(t) – env(t) - spill(t) – Qreg_S_D(t)***\n",
    "\n",
    "Where\n",
    "\n",
    "***s(t)*** = reservoir storage at time-step t, in Vol (for example: ML)\n",
    "\n",
    "***I(t)*** = reservoir inflows in the interval [t,t+1], in Vol/time (for example: ML/week). This is usually provided by a flow forecasting system or assumed by looking, for example, at historical inflow records for the relevant time of year\n",
    "\n",
    "***E(t)*** = evaporation from the reservoir surface area in the interval [t,t+1], in Vol/time (for example: ML/week). This is calculated internally to the model, by multipling the evaporation rate for unit surface area (which depends on air temperature) by the reservoir surface area (which is derived from the storage S given that the reservoir geometry is known)\n",
    "\n",
    "***env(t)*** = environmental compensation flow in the interval [t,t+1], in Vol/time (for example: ML/week). This is usually set to the value that was agreed upon with the environemtal regulator ([Learn more about the rational behind environmental flows](https://www.youtube.com/watch?v=cbUrrYq9BmU))\n",
    "\n",
    "***spill(t)*** = outflow through spillways (if any) in the interval [t,t+1], in Vol/time (for example: ML/week). This is calculated internally to the model, and is equal to the excess volume with respect to the maximum reservoir capacity (so most of the time ***spill(t)*** is equal to 0 as the maximum capacity is not reached, but it occasionally is >0 so that the capacity is never exceeded)\n",
    "\n",
    "***Qreg(t)*** = reservoir regulated release for water supply in the interval [t,t+1], in Vol/time (for example: ML/week). This is a completely free variable that the reservoir operator will need to specify\n",
    "\n",
    "### 2.2 Inputs\n",
    "#### 2.2.1 Definition of inflow and demand scenarios\n",
    "Let's load the uncertain forecasts of inflows (I) and evaporation (e) for this period. The uncertainty in the forecasts, which represented by an ensemble of 25 possible time series, is reduced a priori by considering the average of the forecast ensemble.\n",
    "\n",
    "**Evaporation forecast**"
   ]
  },
  {
   "cell_type": "code",
   "execution_count": null,
   "metadata": {},
   "outputs": [],
   "source": [
    "e_fore_folder_path = 'Results/' # folder containing the forecast weather data\n",
    "e_fore_file = 'e_fore_corr.csv'\n",
    "dates_fore_day, e_fore_day = read_csv_data(e_fore_folder_path, e_fore_file)\n",
    "dates_fore, e_fore_ens, e_fore_cum_ens = day2week(dates_fore_day,e_fore_day) # transform daily to weekly data\n",
    "e_fore = np.zeros((dates_fore.shape[0],1))\n",
    "e_fore[:,0] = e_fore_ens.mean(1) # Average of the forecast ensemble"
   ]
  },
  {
   "cell_type": "markdown",
   "metadata": {},
   "source": [
    "**Inflow forecast**"
   ]
  },
  {
   "cell_type": "code",
   "execution_count": null,
   "metadata": {},
   "outputs": [],
   "source": [
    "I_fore_folder_path = 'Results/' # folder containing the forecast weather data\n",
    "I_fore_file = 'I_fore_week.csv' # data is alreay weekly\n",
    "dates_fore, I_fore_ens = read_csv_data(I_fore_folder_path, I_fore_file)\n",
    "I_fore = np.zeros((dates_fore.shape[0],1))\n",
    "I_fore[:,0] = I_fore_ens.mean(1) # Average of the forecast ensemble"
   ]
  },
  {
   "cell_type": "markdown",
   "metadata": {},
   "source": [
    "Let's define the number of weeks to simulate"
   ]
  },
  {
   "cell_type": "code",
   "execution_count": null,
   "metadata": {},
   "outputs": [],
   "source": [
    "N = len(I_fore)"
   ]
  },
  {
   "cell_type": "markdown",
   "metadata": {},
   "source": [
    "**Demand forecast**\n",
    "\n",
    "Due to the abscence of demand forecast information, in this study case we assume the water demand forecast as constant value equal to the historical mean value."
   ]
  },
  {
   "cell_type": "code",
   "execution_count": null,
   "metadata": {},
   "outputs": [],
   "source": [
    "d_fore = 70 # (ML/week)"
   ]
  },
  {
   "cell_type": "markdown",
   "metadata": {},
   "source": [
    "#### 2.2.2 Definition of other input parameters \n",
    "Let's define other variables that are needed for the reservoir system simulation, such as the reservoir storage capacity, the environmental compensation flow, etc.\n",
    "\n",
    "**System constraints**"
   ]
  },
  {
   "cell_type": "code",
   "execution_count": null,
   "metadata": {},
   "outputs": [],
   "source": [
    "# Minimum environmental flow\n",
    "env_min = 2 # (ML/week)\n",
    "\n",
    "# Maximum regulated flows\n",
    "Qreg_S_D_min = 0 # (ML/week) Minumum regulated release flow\n",
    "Qreg_S_D_max = 250 # (ML/week) Maximum regulated release flow\n",
    "\n",
    "# Min and max storage\n",
    "s_min = 0 # (ML) Minimum active storage\n",
    "s_max = 2000 # (ML) Maximum storage (=reservoir capacity)"
   ]
  },
  {
   "cell_type": "markdown",
   "metadata": {},
   "source": [
    "**Initial conditions**"
   ]
  },
  {
   "cell_type": "code",
   "execution_count": null,
   "metadata": {},
   "outputs": [],
   "source": [
    "s_ini = 1200 # (ML) Storage volume at the beginning of the simulation period"
   ]
  },
  {
   "cell_type": "markdown",
   "metadata": {},
   "source": [
    "### 2.3 Two-objective optimization of the reservoir release scheduling\n",
    "#### Implementation of the reservoir simulation function\n",
    "Here we load the submodule that implements the reservoir simulation model (**Res_sys_sim**). Below is a diagram of the function including the mass balance equation and how the function deals with regulated flows (***Qreg***). The function allows to define both regulated inflows (***Qreg_inf***) and regulated releases (***Qreg_rel***) either as a time series, i.e. array of values for each time step, or a policy function, i.e. a function that can be used to determine the release conditional on the state of the reservoir system in the current time-step. In this Notebook we will define the regulated flows only as time series but in the next section ('Multi-objective optimisation of reservoir operating policy') we will use policy functions.\n",
    "\n",
    "<left><img src=\"../../Software/res_sys_sim_diagram.png\" width = \"1000px\"><left>"
   ]
  },
  {
   "cell_type": "code",
   "execution_count": null,
   "metadata": {},
   "outputs": [],
   "source": [
    "from irons.Software.res_sys_sim import res_sys_sim"
   ]
  },
  {
   "cell_type": "markdown",
   "metadata": {},
   "source": [
    "#### Two-objective optimization\n",
    "\n",
    "The following code will run an automatic optimisation of the reservoir system, considering two objectives: Mean Squared Deficit (MSD) and Mean Resource Deficit (MRD).\n",
    "\n",
    "Let's assume that, we are interested in minimising the deficit with respect to a historical water demand, that is, to minimise the objective function:\n",
    "\n",
    "$$MSD = 1/N\\sum_{t=1}^{N} [ \\ max( \\ 0, \\ d(t)-u(t) \\ ) \\ ]^2 $$\n",
    "\n",
    "where N is the length of the simulation period that we are considering, and d(t) is the water demand for each time-interval in that period, and MSD stands for Mean Squared Deficit. Notice that the function $max(0,...)$ enables us to only count the difference between demand d and release u when this is positive, that is, when the release u is smaller than the demand d, and a water shortage is indeed produced. Also, the squaring is a 'mathematical trick' to make sure that larger deficit amounts are given more weight than smaller ones. \n",
    "\n",
    "We are also interested in maximizing the resource availability to reduce the risk of water deficit. We measure how well this criterion is satisfied by the following objective function:\n",
    "\n",
    "$$MRD = 1/N\\sum_{t=1}^{N} [ \\ s_{max} - s(t) \\ ] $$\n",
    "\n",
    "where, again, N is the length of the simulation period, s is the reservoir storage, and s_max is the maximum reservoir storage (MRD stands for Mean Resource Deficit).\n",
    "\n",
    "To this end, we use the Python Platypus package, and the NSGAII algorithm implemented in it. For more information about these methods and tools, see [Deb et al, 2002](https://ieeexplore.ieee.org/document/996017) and the [Platypus webpage](https://platypus.readthedocs.io). The code to run the optimisation is the following:"
   ]
  },
  {
   "cell_type": "code",
   "execution_count": null,
   "metadata": {
    "scrolled": false
   },
   "outputs": [],
   "source": [
    "# Optimizer\n",
    "pop_size = 40 # population size\n",
    "num_iter = 10000 # Number of iterations\n",
    "\n",
    "def auto_optim(vars):\n",
    "    Qreg_S_D = np.zeros((N,1))\n",
    "    # Decision vector: regulated release to meet the demand in D\n",
    "    Qreg_S_D[:,0] = np.array(vars[0:N])\n",
    "    \n",
    "    Qreg = {'releases' : {'type'  : 'scheduling',\n",
    "                          'input' : Qreg_S_D},\n",
    "            'inflows'  : [],\n",
    "            'rel_inf'  : []}\n",
    "\n",
    "    # Reservoir system simulation\n",
    "    Qenv, Qspill, Qreg_S_D, I_reg, s, E = res_sys_sim(I_fore, e_fore,\n",
    "                                                      s_ini, s_min, s_max,\n",
    "                                                      env_min, d_fore,\n",
    "                                                      Qreg)\n",
    "\n",
    "    # Objective functions\n",
    "    SD = (np.maximum(d_fore-Qreg_S_D,0))**2 # supply deficit objective\n",
    "    RD = s_max-s # resource deficit objective\n",
    "    MSD = np.mean(SD[1:])\n",
    "    MRD = np.mean(RD[1:])\n",
    "    \n",
    "    return [MSD, MRD]\n",
    "\n",
    "problem = Problem(N+1,2) # Problem(number of optimizer variables, num of objective functions)\n",
    "Real0 = Real(Qreg_S_D_min, Qreg_S_D_max) # Range of values\n",
    "\n",
    "problem.types[:] = [Real0]*(N+1)\n",
    "problem.function = auto_optim\n",
    "\n",
    "algorithm_1 = NSGAII(problem,pop_size)\n",
    "algorithm_1.run(num_iter)"
   ]
  },
  {
   "cell_type": "markdown",
   "metadata": {},
   "source": [
    "#### Optimization results\n",
    "Optimal release schedulings"
   ]
  },
  {
   "cell_type": "code",
   "execution_count": null,
   "metadata": {},
   "outputs": [],
   "source": [
    "sol_optim_1 = [algorithm_1.result[i].variables for i in range(pop_size)]"
   ]
  },
  {
   "cell_type": "markdown",
   "metadata": {},
   "source": [
    "Objective functions"
   ]
  },
  {
   "cell_type": "code",
   "execution_count": null,
   "metadata": {},
   "outputs": [],
   "source": [
    "results_MSD_1 = np.array([algorithm_1.result[i].objectives[0] for i in range(pop_size)])\n",
    "results_MRD_1 = np.array([algorithm_1.result[i].objectives[1] for i in range(pop_size)])"
   ]
  },
  {
   "cell_type": "markdown",
   "metadata": {},
   "source": [
    "#### Plot the optimisation results\n",
    "We can visualise the tradeoffs between the two objectives in one plot, called Pareto front, which displays the combination of the two objective values in correspondence to a set of optimised solutions. \n",
    "\n",
    "**Comment:** Please note that the figure is interactive, you can zoom in and out as well as select with the mouse the range of values (both horizontally or vertically) you would like to visualize in the figure. "
   ]
  },
  {
   "cell_type": "code",
   "execution_count": null,
   "metadata": {},
   "outputs": [],
   "source": [
    "# We define the figure layout\n",
    "layout_1 = go.Layout(title  = 'Tradeoff between objectives (Pareto front)',\n",
    "                     xaxis  = dict(showgrid=False,title = 'squared supply defict [ML^2]'),\n",
    "                     yaxis  = dict(title = 'volume to maximum capacity [ML]'),\n",
    "                     width  = 600, \n",
    "                     height = 600)\n",
    "\n",
    "# We define the figure using the layout\n",
    "fig_1 = go.Figure(layout = layout_1)\n",
    "\n",
    "# We add the trace corresponding to the average objective results\n",
    "fig_1.add_trace(go.Scatter(x       = results_MSD_1,\n",
    "                           y       = results_MRD_1,\n",
    "                           name    = 'mean',\n",
    "                           mode    = 'markers',\n",
    "                           marker  = dict(color='blue',\n",
    "                                          size = 10)))"
   ]
  },
  {
   "cell_type": "markdown",
   "metadata": {},
   "source": [
    "## 3. Study case: Single reservoir system - Ensemble forecast\n",
    "Now we consider again the same reservoir system but now we account for the uncertainty in the forecasts, represented by the M members of the inflow forecast ensemble."
   ]
  },
  {
   "cell_type": "code",
   "execution_count": null,
   "metadata": {},
   "outputs": [],
   "source": [
    "# Number of forecast ensemble members\n",
    "M = I_fore_ens.shape[1]"
   ]
  },
  {
   "cell_type": "markdown",
   "metadata": {},
   "source": [
    "### 3.1 Optimization of the reservoir release scheduling\n",
    "In this approach, instead of pre-filtering the uncertainty by selecting one ensemble member to optimise against, we carry over the entire ensemble into the optimisation procedure. The optimisation algorithm will therefore look for solutions that perform 'best' (on average) against all the ensemble members, instead of doing best for one specific ensemble member:\n",
    "#### Two-objective optimization\n",
    "The following code will run an automatic optimisation of the reservoir system, considering two objectives: Mean Squared Deficit (MSD) and Mean Resource Deficit (MRD).\n",
    "\n",
    "Let's assume that, we are interested in minimising the deficit with respect to a historical water demand, that is, to minimise the objective function:\n",
    "\n",
    "$$MSD = 1/M\\sum_{t=1}^{M} \\ [ \\ 1/N\\sum_{t=1}^{N} [ \\ max( \\ 0, \\ d(t,m)-u(t) \\ ) \\ ]^2 \\ ] $$\n",
    "\n",
    "where M is the number of members of the inflow forecast ensemble, N is the length of the simulation period that we are considering, and d(t) is the water demand for each time-interval in that period. \n",
    "\n",
    "We are also interested in maximizing the resource availability to reduce the risk of water deficit. We measure how well this criterion is satisfied by the following objective function:\n",
    "\n",
    "$$MRD = 1/M\\sum_{t=1}^{M} \\ [ \\ 1/N\\sum_{t=1}^{N} [ \\ s_{max} - s(t,m) \\ ] \\ ] $$\n",
    "\n",
    "where s is the reservoir storage, and s_max is the maximum reservoir storage."
   ]
  },
  {
   "cell_type": "code",
   "execution_count": null,
   "metadata": {},
   "outputs": [],
   "source": [
    "def auto_optim(vars):\n",
    "    # Initialization of the optimization objective functions\n",
    "    MSD = 0\n",
    "    MRD = 0\n",
    "    \n",
    "    # Decision vector: regulated release to meet the demand in D\n",
    "    Qreg_S_D = np.array(vars[0:(N)]).reshape(N,1)\n",
    "    Qreg = {'releases' : {'type'  : 'scheduling',\n",
    "                          'input' : Qreg_S_D},\n",
    "            'inflows'  : [],\n",
    "            'rel_inf'  : []}\n",
    "    \n",
    "    # Reservoir system simulation for each member of the forecast ensemble \n",
    "        \n",
    "    Qenv, Qspill, Qreg_S_D, Qreg_inf, s, E = res_sys_sim(I_fore_ens,e_fore_ens,\n",
    "                                                         s_ini,s_min,s_max,\n",
    "                                                         env_min,d_fore,\n",
    "                                                         Qreg)\n",
    "\n",
    "    # Objective functions\n",
    "    SD  = (d_fore-Qreg_S_D).clip(min=0)**2 # supply deficit objective\n",
    "    RD  = s_max-s # resource deficit objective\n",
    "    MSD = np.mean(np.mean(SD[1:,:],axis = 0)) # Average weekly SD for the M ensemble members\n",
    "    MRD = np.mean(np.mean(RD[1:,:],axis = 0)) # Average weekly RD for the M ensemble members\n",
    "\n",
    "    return [MSD, MRD]\n",
    "\n",
    "problem = Problem((N),2)\n",
    "Real0 = Real(Qreg_S_D_min, Qreg_S_D_max)\n",
    "\n",
    "problem.types[:] = [Real0]*(N)\n",
    "problem.function = auto_optim\n",
    "\n",
    "algorithm_2 = NSGAII(problem,pop_size)\n",
    "algorithm_2.run(num_iter) # Number of iterations"
   ]
  },
  {
   "cell_type": "markdown",
   "metadata": {},
   "source": [
    "#### Optimization results\n",
    "We obtain the results for the objective functions by simulating the system applying the optimized release schedulings for each ensemble member:\n",
    "\n",
    "Optimal release schedulings"
   ]
  },
  {
   "cell_type": "code",
   "execution_count": null,
   "metadata": {},
   "outputs": [],
   "source": [
    "sol_optim_2 = np.array([algorithm_2.result[i].variables for i in range(pop_size)])"
   ]
  },
  {
   "cell_type": "markdown",
   "metadata": {},
   "source": [
    "Objective functions: mean system performance"
   ]
  },
  {
   "cell_type": "code",
   "execution_count": null,
   "metadata": {},
   "outputs": [],
   "source": [
    "results_MSD_2 = np.array([algorithm_2.result[i].objectives[0] for i in range(pop_size)])\n",
    "results_MRD_2 = np.array([algorithm_2.result[i].objectives[1] for i in range(pop_size)])"
   ]
  },
  {
   "cell_type": "markdown",
   "metadata": {},
   "source": [
    "Objective functions: system performance for all the ensemble members"
   ]
  },
  {
   "cell_type": "code",
   "execution_count": null,
   "metadata": {},
   "outputs": [],
   "source": [
    "# Initialization of the objective functions\n",
    "results_MSD_all_2 = np.zeros([pop_size,M])*np.nan\n",
    "results_MRD_all_2 = np.zeros([pop_size,M])*np.nan\n",
    "\n",
    "# System simulation for each for the ensemble members:\n",
    "for i in range(pop_size):\n",
    "    Qreg_S_D = sol_optim_2[i,:].reshape(N,1)\n",
    "    Qreg = {'releases' : {'type'  : 'scheduling',\n",
    "                          'input' : Qreg_S_D},\n",
    "            'inflows'  : [],\n",
    "            'rel_inf'  : []}\n",
    "\n",
    "    Qenv, Qspill, Qreg_S_D, Qreg_inf, s, E = res_sys_sim(I_fore_ens,e_fore_ens,\n",
    "                                                         s_ini,s_min,s_max,\n",
    "                                                         env_min,d_fore,\n",
    "                                                         Qreg)\n",
    "\n",
    "    SD  = (d_fore-Qreg_S_D).clip(min=0)**2 # supply deficit objective\n",
    "    RD  = s_max-s # resource deficit objective\n",
    "    results_MSD_all_2[i,:] = np.mean(SD[1:,:],axis = 0) # mean SD for each ensemble member (m)\n",
    "    results_MRD_all_2[i,:] = np.mean(RD[1:,:],axis = 0) # mean RD for each ensemble member (m)"
   ]
  },
  {
   "cell_type": "markdown",
   "metadata": {},
   "source": [
    "#### Plot the optimisation results\n",
    "We can visualise the tradeoffs between the two objectives in one plot (Pareto front) including the forecast uncertainty. \n",
    "\n",
    "**Comment:** To represent the uncertainty of the forecasts the results of the system objectives for each of the ensemble members is represented. Each forecast ensemble member is numerated.\n",
    "\n",
    "**Comment:** Please note that the figure is interactive, if you click on the legend you will be able to delete the selected member of the forecast ensemble, you can also zoom in and out as well as select with the mouse the range of values (both horizontally or vertically) you would like to visualize in the figure. "
   ]
  },
  {
   "cell_type": "code",
   "execution_count": null,
   "metadata": {
    "scrolled": false
   },
   "outputs": [],
   "source": [
    "# We define the figure layout\n",
    "layout_2 = go.Layout(title  = 'Tradeoff between objectives (Pareto front)',\n",
    "                     xaxis  = dict(showgrid=False,title = 'squared supply defict [ML^2]'),\n",
    "                     yaxis  = dict(title = 'volume to maximum capacity [ML]'),\n",
    "                     width  = 600, \n",
    "                     height = 600)\n",
    "\n",
    "# We define the figure using the layout\n",
    "fig_2 = go.Figure(layout = layout_2)\n",
    "\n",
    "# We add all the traces corresponding to the objective results for each ensemble member\n",
    "for m in range(M):\n",
    "    fig_2.add_trace(go.Scatter(x = results_MSD_all_2[:,m],\n",
    "                               y = results_MRD_all_2[:,m],\n",
    "                               name    = 'member '+str(m),\n",
    "                               mode    = 'markers',\n",
    "                               marker  = dict(color='red',\n",
    "                                              opacity = 0.1,\n",
    "                                              size = 10)))\n",
    "\n",
    "# We add the trace corresponding to the average objective results\n",
    "fig_2.add_trace(go.Scatter(x       = results_MSD_2,\n",
    "                           y       = results_MRD_2,\n",
    "                           name    = 'mean',\n",
    "                           mode    = 'markers',\n",
    "                           marker  = dict(color='blue',\n",
    "                                          size = 10)))"
   ]
  },
  {
   "cell_type": "markdown",
   "metadata": {},
   "source": [
    "## 4. Study case: Pumped single reservoir system - Ensemble forecast\n",
    "We consider again the same simple illustrative system of a reservoir operated to supply water to a domestic consumption node and a seasonal inflow forecast ensemble. This time however we assume that the reservoir inflows can be augmented by pumping river abstractions into the reservoir. The decision to be made is about how much water to pump into the reservoir (***u***). So, the objective is to determine the pumping scheduling that will minimise pumping costs, while meeting the forecasted water demand (***d***) over a coming period of time (we will assume here that the release ***r*** is always set to the demand ***d***, unless physically impossible, that is, unless the reservoir storage is too low and the release must be reduced). \n",
    "<left><img src=\"../../util/images/System 2 layout.png\" width = \"500px\"><left>\n",
    "### 4.1 Additional inputs\n",
    "#### Pumping energy cost\n",
    "Here we define the energy cost per ML of pumping water from the streamflow ***R*** to the reservoir ***S*** "
   ]
  },
  {
   "cell_type": "code",
   "execution_count": null,
   "metadata": {},
   "outputs": [],
   "source": [
    "c_R_S = 50 # £/ML"
   ]
  },
  {
   "cell_type": "markdown",
   "metadata": {},
   "source": [
    "#### Maximum regulated inflows"
   ]
  },
  {
   "cell_type": "code",
   "execution_count": null,
   "metadata": {},
   "outputs": [],
   "source": [
    "# Maximum regulated flows\n",
    "Qreg_R_S_min = 0 # (ML/week) Minumum regulated release flow\n",
    "Qreg_R_S_max = 250 # (ML/week) Maximum regulated release flow"
   ]
  },
  {
   "cell_type": "markdown",
   "metadata": {},
   "source": [
    "### 4.2 Optimization of the reservoir pumped inflows\n",
    "#### Two-objective optimization\n",
    "\n",
    "The following code will run an automatic optimisation of the reservoir system, considering two objectives: Mean Pumping cost (MPC) and Mean Resource Deficit (MRD):\n",
    "\n",
    "We are interested in minimising the pumping energy cost, that is, to minimise the objective function:\n",
    "\n",
    "$$MPC = 1/M\\sum_{t=1}^{M} \\ [ \\ 1/N\\sum_{t=1}^{N} [ \\ u(t) \\ * \\ c \\ ] \\ ] $$\n",
    "\n",
    "where M is the number of members of the inflow forecast ensemble, N is the length of the simulation period that we are considering, u(t) is the pumped inflow and c the pumping energy cost (£) per ML.\n",
    "\n",
    "We are also interested in maximizing the resource availability to reduce the risk of water deficit. We measure how well this criterion is satisfied by the following objective function:\n",
    "\n",
    "$$MRD = 1/M\\sum_{t=1}^{M} \\ [ \\ 1/N\\sum_{t=1}^{N} [ \\ s_{max} - s(t,m) \\ ] \\ ] $$\n",
    "\n",
    "where s is the reservoir storage, and s_max is the maximum reservoir storage.."
   ]
  },
  {
   "cell_type": "code",
   "execution_count": null,
   "metadata": {},
   "outputs": [],
   "source": [
    "def auto_optim(vars):\n",
    "    # Initialization of the optimization objective functions\n",
    "    MPC = 0\n",
    "    MRD = 0\n",
    "    \n",
    "    # Decision vector: regulated pumped inflows\n",
    "    Qreg_R_S = np.array(vars[0:N]).reshape(N,1)\n",
    "    Qreg = {'releases' : [],\n",
    "            'inflows'  : {'type'  : 'scheduling',\n",
    "                          'input' : Qreg_R_S},\n",
    "            'rel_inf'  : []}\n",
    " \n",
    "    # Reservoir system simulation for all the members of the forecast ensemble\n",
    "    Qenv, Qspill, Qreg_S_D, Qreg_R_S, s, E = res_sys_sim(I_fore_ens,e_fore_ens,\n",
    "                                                         s_ini,s_min,s_max,\n",
    "                                                         env_min,d_fore,\n",
    "                                                         Qreg)\n",
    "    \n",
    "    # Objective functions\n",
    "    PC = Qreg_R_S * c_R_S # regulated inflows pumping cost\n",
    "    RD = s_max - s # resource deficit objective\n",
    "    MPC = np.mean(np.mean(PC[1:,:],axis = 0)) # Average weekly PC for the M ensemble members\n",
    "    MRD = np.mean(np.mean(RD[1:,:],axis = 0)) # Average weekly RD for the M ensemble members\n",
    "\n",
    "    return [MPC, MRD]\n",
    "\n",
    "problem = Problem(N,2)\n",
    "Real0 = Real(Qreg_R_S_min, Qreg_R_S_max)\n",
    "\n",
    "problem.types[:] = [Real0]*(N)\n",
    "problem.function = auto_optim\n",
    "\n",
    "algorithm_3 = NSGAII(problem,pop_size)\n",
    "algorithm_3.run(num_iter) # Number of iterations"
   ]
  },
  {
   "cell_type": "markdown",
   "metadata": {},
   "source": [
    "#### Optimization results\n",
    "We obtain the results for the system objectives by computing the system objectives for each ensemble member:\n",
    "\n",
    "Optimal pumped inflow schedulings"
   ]
  },
  {
   "cell_type": "code",
   "execution_count": null,
   "metadata": {},
   "outputs": [],
   "source": [
    "sol_optim_3 = np.array([algorithm_3.result[i].variables for i in range(pop_size)])"
   ]
  },
  {
   "cell_type": "markdown",
   "metadata": {},
   "source": [
    "Objective functions: mean system performance"
   ]
  },
  {
   "cell_type": "code",
   "execution_count": null,
   "metadata": {},
   "outputs": [],
   "source": [
    "results_MPC_3 = np.array([algorithm_3.result[i].objectives[0] for i in range(pop_size)])\n",
    "results_MRD_3 = np.array([algorithm_3.result[i].objectives[1] for i in range(pop_size)])"
   ]
  },
  {
   "cell_type": "markdown",
   "metadata": {},
   "source": [
    "Objective functions: system performance for all the ensemble members"
   ]
  },
  {
   "cell_type": "code",
   "execution_count": null,
   "metadata": {},
   "outputs": [],
   "source": [
    "# Initialization of the objective functions\n",
    "results_MPC_all_3 = np.zeros([pop_size,M])*np.nan\n",
    "results_MRD_all_3 = np.zeros([pop_size,M])*np.nan\n",
    "\n",
    "# System simulation for each for the ensemble members:\n",
    "for i in range(pop_size):\n",
    "    Qreg_R_S = sol_optim_3[i,:].reshape(N,1)\n",
    "    Qreg = {'releases' : [],\n",
    "            'inflows'  : {'type'  : 'scheduling',\n",
    "                          'input' : Qreg_R_S},\n",
    "            'rel_inf'  : []}\n",
    "\n",
    "    Qenv, Qspill, Qreg_S_D, Qreg_R_S, s, E = res_sys_sim(I_fore_ens,e_fore_ens,\n",
    "                                                         s_ini,s_min,s_max,\n",
    "                                                         env_min,d_fore,\n",
    "                                                         Qreg)\n",
    "\n",
    "    PC = Qreg_R_S * c_R_S # regulated inflows pumping cost\n",
    "    RD = s_max-s # resource deficit objective\n",
    "    results_MPC_all_3[i,:] = np.mean(PC[1:,:],axis = 0) # mean PC for each ensemble member (m)\n",
    "    results_MRD_all_3[i,:] = np.mean(RD[1:,:],axis = 0) # mean RD for each ensemble member (m)"
   ]
  },
  {
   "cell_type": "markdown",
   "metadata": {},
   "source": [
    "#### Plot the optimisation results\n",
    "We can visualise the tradeoffs between the two objectives in one plot (Pareto front) including the forecast uncertainty. \n",
    "\n",
    "**Comment:** To represent the uncertainty of the forecasts the results of the system objectives for each of the ensemble members is represented. Each forecast ensemble member is numerated.\n",
    "\n",
    "**Comment:** Please note that the figure is interactive, if you click on the legend you will be able to delete the selected member of the forecast ensemble, you can also zoom in and out as well as select with the mouse the range of values (both horizontally or vertically) you would like to visualize in the figure. "
   ]
  },
  {
   "cell_type": "code",
   "execution_count": null,
   "metadata": {},
   "outputs": [],
   "source": [
    "# We define the figure layout\n",
    "layout_3 = go.Layout(title  = 'Tradeoff between objectives (Pareto front)',\n",
    "                     xaxis  = dict(showgrid=False,title = 'pumping cost [£/week]'),\n",
    "                     yaxis  = dict(title = 'volume to maximum capacity [ML]'),\n",
    "                     width  = 600, \n",
    "                     height = 600)\n",
    "\n",
    "# We define the figure using the layout\n",
    "fig_3 = go.Figure(layout = layout_3)\n",
    "\n",
    "# We add all the traces corresponding to the objective results for each ensemble member\n",
    "for m in range(M):\n",
    "    fig_3.add_trace(go.Scatter(x       = results_MPC_all_3[:,m],\n",
    "                               y       = results_MRD_all_3[:,m],\n",
    "                               name    = 'member '+str(m),\n",
    "                               mode    = 'markers',\n",
    "                               marker  = dict(color='red',\n",
    "                                              opacity = 0.1,\n",
    "                                              size = 10)))\n",
    "    \n",
    "# We add the trace corresponding to the average objective results\n",
    "fig_3.add_trace(go.Scatter(x       = results_MPC_3,\n",
    "                           y       = results_MRD_3,\n",
    "                           name    = 'mean',\n",
    "                           mode    = 'markers',\n",
    "                           marker  = dict(color='blue',\n",
    "                                          size = 10)))"
   ]
  },
  {
   "cell_type": "markdown",
   "metadata": {},
   "source": [
    "#### Let's go to the next section: [Multi-objective optimisation of reservoir operating policy](3.b.%20Multi-objective%20optimisation%20of%20reservoir%20operating%20policy.ipynb)"
   ]
  },
  {
   "cell_type": "markdown",
   "metadata": {},
   "source": [
    "### References \n",
    "\n",
    "Deb K. et al (2002) A fast and elitist multiobjective genetic algorithm: NSGA-II, IEEE Transactions on Evolutionary Computation, 6(2), 182-197, doi:10.1109/4235.996017."
   ]
  }
 ],
 "metadata": {
  "kernelspec": {
   "display_name": "Python 3 (ipykernel)",
   "language": "python",
   "name": "python3"
  },
  "language_info": {
   "codemirror_mode": {
    "name": "ipython",
    "version": 3
   },
   "file_extension": ".py",
   "mimetype": "text/x-python",
   "name": "python",
   "nbconvert_exporter": "python",
   "pygments_lexer": "ipython3",
   "version": "3.7.1"
  },
  "varInspector": {
   "cols": {
    "lenName": 16,
    "lenType": 16,
    "lenVar": 40
   },
   "kernels_config": {
    "python": {
     "delete_cmd_postfix": "",
     "delete_cmd_prefix": "del ",
     "library": "var_list.py",
     "varRefreshCmd": "print(var_dic_list())"
    },
    "r": {
     "delete_cmd_postfix": ") ",
     "delete_cmd_prefix": "rm(",
     "library": "var_list.r",
     "varRefreshCmd": "cat(var_dic_list()) "
    }
   },
   "types_to_exclude": [
    "module",
    "function",
    "builtin_function_or_method",
    "instance",
    "_Feature"
   ],
   "window_display": false
  }
 },
 "nbformat": 4,
 "nbformat_minor": 4
}
